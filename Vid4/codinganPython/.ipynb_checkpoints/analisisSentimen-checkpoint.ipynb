{
 "cells": [
  {
   "cell_type": "code",
   "execution_count": 1,
   "metadata": {},
   "outputs": [],
   "source": [
    "import pandas as pd\n",
    "import re"
   ]
  },
  {
   "cell_type": "code",
   "execution_count": 2,
   "metadata": {},
   "outputs": [
    {
     "data": {
      "text/html": [
       "<div>\n",
       "<style scoped>\n",
       "    .dataframe tbody tr th:only-of-type {\n",
       "        vertical-align: middle;\n",
       "    }\n",
       "\n",
       "    .dataframe tbody tr th {\n",
       "        vertical-align: top;\n",
       "    }\n",
       "\n",
       "    .dataframe thead th {\n",
       "        text-align: right;\n",
       "    }\n",
       "</style>\n",
       "<table border=\"1\" class=\"dataframe\">\n",
       "  <thead>\n",
       "    <tr style=\"text-align: right;\">\n",
       "      <th></th>\n",
       "      <th>reviewId</th>\n",
       "      <th>userName</th>\n",
       "      <th>userImage</th>\n",
       "      <th>content</th>\n",
       "      <th>score</th>\n",
       "      <th>thumbsUpCount</th>\n",
       "      <th>reviewCreatedVersion</th>\n",
       "      <th>at</th>\n",
       "      <th>replyContent</th>\n",
       "      <th>repliedAt</th>\n",
       "      <th>appVersion</th>\n",
       "    </tr>\n",
       "  </thead>\n",
       "  <tbody>\n",
       "    <tr>\n",
       "      <th>393</th>\n",
       "      <td>f6998227-f297-4c94-a3b4-c05c79ae3d98</td>\n",
       "      <td>F5X</td>\n",
       "      <td>https://play-lh.googleusercontent.com/a/ACg8oc...</td>\n",
       "      <td>Hallo saya sangat kecewa sama tiktok karena sa...</td>\n",
       "      <td>1</td>\n",
       "      <td>133</td>\n",
       "      <td>25.7.3</td>\n",
       "      <td>2022-08-18 08:50:31</td>\n",
       "      <td>NaN</td>\n",
       "      <td>NaN</td>\n",
       "      <td>25.7.3</td>\n",
       "    </tr>\n",
       "    <tr>\n",
       "      <th>394</th>\n",
       "      <td>9c4b27b6-941e-4d45-97ff-9232132d6663</td>\n",
       "      <td>ozho jabra</td>\n",
       "      <td>https://play-lh.googleusercontent.com/a-/ALV-U...</td>\n",
       "      <td>Aplikasi ini sangat penting untuk menghibur da...</td>\n",
       "      <td>5</td>\n",
       "      <td>10</td>\n",
       "      <td>NaN</td>\n",
       "      <td>2020-09-06 13:06:58</td>\n",
       "      <td>NaN</td>\n",
       "      <td>NaN</td>\n",
       "      <td>NaN</td>\n",
       "    </tr>\n",
       "    <tr>\n",
       "      <th>395</th>\n",
       "      <td>6f8c4dd1-714c-4210-ba0b-37b70ee02ed8</td>\n",
       "      <td>Sisan Ismail</td>\n",
       "      <td>https://play-lh.googleusercontent.com/a/ACg8oc...</td>\n",
       "      <td>aplikasi ini sangat bagus dan menghibur, tapi ...</td>\n",
       "      <td>5</td>\n",
       "      <td>5</td>\n",
       "      <td>NaN</td>\n",
       "      <td>2020-07-12 22:41:40</td>\n",
       "      <td>NaN</td>\n",
       "      <td>NaN</td>\n",
       "      <td>NaN</td>\n",
       "    </tr>\n",
       "    <tr>\n",
       "      <th>396</th>\n",
       "      <td>adc9f7f6-3586-4fa4-9e4c-01681b9c55f0</td>\n",
       "      <td>Neli Wulansari</td>\n",
       "      <td>https://play-lh.googleusercontent.com/a/ACg8oc...</td>\n",
       "      <td>Banyak ilmu yang didapat dan untuk pengalaman ...</td>\n",
       "      <td>5</td>\n",
       "      <td>81</td>\n",
       "      <td>23.7.3</td>\n",
       "      <td>2022-03-24 20:28:18</td>\n",
       "      <td>NaN</td>\n",
       "      <td>NaN</td>\n",
       "      <td>23.7.3</td>\n",
       "    </tr>\n",
       "    <tr>\n",
       "      <th>397</th>\n",
       "      <td>c2d0f674-8227-46a0-b9fc-f520d7734ae1</td>\n",
       "      <td>Pengguna Google</td>\n",
       "      <td>https://play-lh.googleusercontent.com/EGemoI2N...</td>\n",
       "      <td>Filter ada yang tidak bisa dipakai walaupun su...</td>\n",
       "      <td>4</td>\n",
       "      <td>58</td>\n",
       "      <td>15.5.5</td>\n",
       "      <td>2020-04-04 22:33:42</td>\n",
       "      <td>NaN</td>\n",
       "      <td>NaN</td>\n",
       "      <td>15.5.5</td>\n",
       "    </tr>\n",
       "  </tbody>\n",
       "</table>\n",
       "</div>"
      ],
      "text/plain": [
       "                                 reviewId         userName  \\\n",
       "393  f6998227-f297-4c94-a3b4-c05c79ae3d98              F5X   \n",
       "394  9c4b27b6-941e-4d45-97ff-9232132d6663       ozho jabra   \n",
       "395  6f8c4dd1-714c-4210-ba0b-37b70ee02ed8     Sisan Ismail   \n",
       "396  adc9f7f6-3586-4fa4-9e4c-01681b9c55f0   Neli Wulansari   \n",
       "397  c2d0f674-8227-46a0-b9fc-f520d7734ae1  Pengguna Google   \n",
       "\n",
       "                                             userImage  \\\n",
       "393  https://play-lh.googleusercontent.com/a/ACg8oc...   \n",
       "394  https://play-lh.googleusercontent.com/a-/ALV-U...   \n",
       "395  https://play-lh.googleusercontent.com/a/ACg8oc...   \n",
       "396  https://play-lh.googleusercontent.com/a/ACg8oc...   \n",
       "397  https://play-lh.googleusercontent.com/EGemoI2N...   \n",
       "\n",
       "                                               content  score  thumbsUpCount  \\\n",
       "393  Hallo saya sangat kecewa sama tiktok karena sa...      1            133   \n",
       "394  Aplikasi ini sangat penting untuk menghibur da...      5             10   \n",
       "395  aplikasi ini sangat bagus dan menghibur, tapi ...      5              5   \n",
       "396  Banyak ilmu yang didapat dan untuk pengalaman ...      5             81   \n",
       "397  Filter ada yang tidak bisa dipakai walaupun su...      4             58   \n",
       "\n",
       "    reviewCreatedVersion                   at replyContent repliedAt  \\\n",
       "393               25.7.3  2022-08-18 08:50:31          NaN       NaN   \n",
       "394                  NaN  2020-09-06 13:06:58          NaN       NaN   \n",
       "395                  NaN  2020-07-12 22:41:40          NaN       NaN   \n",
       "396               23.7.3  2022-03-24 20:28:18          NaN       NaN   \n",
       "397               15.5.5  2020-04-04 22:33:42          NaN       NaN   \n",
       "\n",
       "    appVersion  \n",
       "393     25.7.3  \n",
       "394        NaN  \n",
       "395        NaN  \n",
       "396     23.7.3  \n",
       "397     15.5.5  "
      ]
     },
     "execution_count": 2,
     "metadata": {},
     "output_type": "execute_result"
    }
   ],
   "source": [
    "df = pd.read_csv('../data/tiktok.csv')\n",
    "df.tail()"
   ]
  },
  {
   "cell_type": "markdown",
   "metadata": {},
   "source": [
    "## 1. Cleaning Data"
   ]
  },
  {
   "cell_type": "code",
   "execution_count": 3,
   "metadata": {},
   "outputs": [],
   "source": [
    "df = df[['userName', 'content', 'score']]"
   ]
  },
  {
   "cell_type": "code",
   "execution_count": 4,
   "metadata": {},
   "outputs": [
    {
     "data": {
      "text/plain": [
       "(398, 3)"
      ]
     },
     "execution_count": 4,
     "metadata": {},
     "output_type": "execute_result"
    }
   ],
   "source": [
    "df.shape"
   ]
  },
  {
   "cell_type": "code",
   "execution_count": 5,
   "metadata": {},
   "outputs": [],
   "source": [
    "df = df.drop_duplicates(subset=['content'])"
   ]
  },
  {
   "cell_type": "code",
   "execution_count": 6,
   "metadata": {},
   "outputs": [],
   "source": [
    "df = df.dropna()"
   ]
  },
  {
   "cell_type": "code",
   "execution_count": 7,
   "metadata": {},
   "outputs": [
    {
     "data": {
      "text/plain": [
       "(398, 3)"
      ]
     },
     "execution_count": 7,
     "metadata": {},
     "output_type": "execute_result"
    }
   ],
   "source": [
    "df.shape"
   ]
  },
  {
   "cell_type": "code",
   "execution_count": 8,
   "metadata": {},
   "outputs": [],
   "source": [
    "# Metode 1: Menggunakan drop\n",
    "df['content'] = df['content'].astype(str).str.lower()  # Mengubah teks menjadi lowercase\n",
    "df['content'] = df['content'].replace('false', pd.NA)  # Mengganti 'false' dengan pd.NA (Not Available)\n",
    "df = df.dropna(subset=['content'])\n",
    "\n",
    "# Metode 2: Menggunakan boolean indexing\n",
    "df['content'] = df['content'].astype(str).str.lower()  # Mengubah teks menjadi lowercase\n",
    "df = df[df['content'] != 'false']"
   ]
  },
  {
   "cell_type": "code",
   "execution_count": 9,
   "metadata": {},
   "outputs": [],
   "source": [
    "def clean_tiktok_data(text):\n",
    "  text = re.sub(r'@[A-Za-z0-9_]+', '', text)\n",
    "  text = re.sub(r'#\\w+', '', text)\n",
    "  text = re.sub(r'RT[\\s]+', '', text)\n",
    "  text = re.sub(r'https?://\\S+', '', text)\n",
    "\n",
    "  text = re.sub(r'[^A-Za-z0-9 ]', '', text)\n",
    "  text = re.sub(r'\\s+', ' ', text).strip()\n",
    "\n",
    "  return text\n",
    "\n",
    "df['content'] = df['content'].apply(clean_tiktok_data)"
   ]
  },
  {
   "cell_type": "code",
   "execution_count": 10,
   "metadata": {},
   "outputs": [],
   "source": [
    "df['content'] = df['content'].str.lower()"
   ]
  },
  {
   "cell_type": "code",
   "execution_count": 11,
   "metadata": {},
   "outputs": [
    {
     "data": {
      "text/html": [
       "<div>\n",
       "<style scoped>\n",
       "    .dataframe tbody tr th:only-of-type {\n",
       "        vertical-align: middle;\n",
       "    }\n",
       "\n",
       "    .dataframe tbody tr th {\n",
       "        vertical-align: top;\n",
       "    }\n",
       "\n",
       "    .dataframe thead th {\n",
       "        text-align: right;\n",
       "    }\n",
       "</style>\n",
       "<table border=\"1\" class=\"dataframe\">\n",
       "  <thead>\n",
       "    <tr style=\"text-align: right;\">\n",
       "      <th></th>\n",
       "      <th>userName</th>\n",
       "      <th>content</th>\n",
       "      <th>score</th>\n",
       "    </tr>\n",
       "  </thead>\n",
       "  <tbody>\n",
       "    <tr>\n",
       "      <th>0</th>\n",
       "      <td>Amin Santoso</td>\n",
       "      <td>tiktok sangat bagus bisa berkarya dan mendapat...</td>\n",
       "      <td>5</td>\n",
       "    </tr>\n",
       "    <tr>\n",
       "      <th>1</th>\n",
       "      <td>monica hsu</td>\n",
       "      <td>saya suka dengan aplikasi tiktok dan aktif men...</td>\n",
       "      <td>5</td>\n",
       "    </tr>\n",
       "    <tr>\n",
       "      <th>2</th>\n",
       "      <td>Oppo A16</td>\n",
       "      <td>maaf saya kasih 2 karena aplikasi nya kurang b...</td>\n",
       "      <td>2</td>\n",
       "    </tr>\n",
       "    <tr>\n",
       "      <th>3</th>\n",
       "      <td>Verdi Ximenes</td>\n",
       "      <td>tiktok nya sangat bagus tapi pas di buka video...</td>\n",
       "      <td>3</td>\n",
       "    </tr>\n",
       "    <tr>\n",
       "      <th>4</th>\n",
       "      <td>Nenk shinta</td>\n",
       "      <td>kenapa dengan tiktok saya pas buka muter muter...</td>\n",
       "      <td>2</td>\n",
       "    </tr>\n",
       "  </tbody>\n",
       "</table>\n",
       "</div>"
      ],
      "text/plain": [
       "        userName                                            content  score\n",
       "0   Amin Santoso  tiktok sangat bagus bisa berkarya dan mendapat...      5\n",
       "1     monica hsu  saya suka dengan aplikasi tiktok dan aktif men...      5\n",
       "2       Oppo A16  maaf saya kasih 2 karena aplikasi nya kurang b...      2\n",
       "3  Verdi Ximenes  tiktok nya sangat bagus tapi pas di buka video...      3\n",
       "4    Nenk shinta  kenapa dengan tiktok saya pas buka muter muter...      2"
      ]
     },
     "execution_count": 11,
     "metadata": {},
     "output_type": "execute_result"
    }
   ],
   "source": [
    "df.head()"
   ]
  },
  {
   "cell_type": "markdown",
   "metadata": {},
   "source": [
    "## 2. Preprocessing "
   ]
  },
  {
   "cell_type": "code",
   "execution_count": 12,
   "metadata": {},
   "outputs": [],
   "source": [
    "score = df['score']"
   ]
  },
  {
   "cell_type": "code",
   "execution_count": 13,
   "metadata": {},
   "outputs": [],
   "source": [
    "# Definisi fungsi filter_tokens_by_length\n",
    "def filter_tokens_by_length(dataframe, column, min_words, max_words):\n",
    "    # Tokenisasi kata\n",
    "    words_count = dataframe[column].astype(str).apply(lambda x: len(x.split()))\n",
    "    # Membuat filter untuk jumlah kata\n",
    "    mask = (words_count >= min_words) & (words_count <= max_words)\n",
    "    # Mengaplikasikan filter ke DataFrame\n",
    "    filtered_df = dataframe[mask]\n",
    "    return filtered_df\n",
    "\n",
    "# Menggunakan filter_tokens_by_length untuk mendapatkan baris dengan jumlah kata antara 3 dan 50\n",
    "min_words = 3\n",
    "max_words = 50\n",
    "df = filter_tokens_by_length(df, 'content', min_words, max_words)"
   ]
  },
  {
   "cell_type": "code",
   "execution_count": 14,
   "metadata": {},
   "outputs": [],
   "source": [
    "# Normalisasi\n",
    "norm = {' gk ':' tidak', ' profisional ' : ' profesional', ' skrng ' : ' sekarang ', ' uwang ':' uang ' ,'tiktokan ':'tiktok', ' yg ':' yang ', ' udh ':' udah ', 'wkwk ':' ', ' min ':' kak ', ' malem ':' malam', ' malem2 ':' malam ', ' sm ':' sama ', ' dy ':' dia ', ' lg ':' lagi ', ' skrg ':' sekarang ', ' ddpn ':' didepan ', ' makasi ':' makasih ', ' pertamaz ':' pertamax ', ' jg ':' juga ', ' donk ':' dong ', ' ikutann ':' ikutan ', ' banyakk ':' banyak ', ' twt ':' tweet', 'mantaap ':'mantap ', ' juarak':' juara ', 'daridulu ':'dari dulu ', 'siapp ':'siap ', ' gamau ':' tidak mau ', ' sll ':' selalu ', ' qu ':' aku ', ' krn ':' karena ', ' irii':' iri', ' muluu ':' terus ', 'mada ':'masa ', 'jgn ':'jangan ', ' jgn ':' jangan ', ' muluuu ':' terus ', 'ntar ':'nanti ', ' awtnya':' awetnya', 'gg ':'keren ', ' kerennn':' keren ', ' bisaa ':' bisa ', 'gaaa':'tidak ', \" yg \": \" yang \", ' nyampe':' sampai', ' nyampe ':' sampai ', ' lu ':' kamu ', ' ikhlaaasss ':' ikhlas ', ' gak ':' tidak ', ' klo ':' kalo ', ' amp ': ' sampai ', ' ga ':' tidak ', ' yaaaa':' ya ', 'betolll ':'betul ', ' kaga ':' tidak ', ' idk ':' tidak tahu ', ' jkt ':' jakarta ', ' lo ':' kamu ', ' bjir ':' ', ' kek ':' seperti ', ' yg ':' yang ', ' utk ':' untuk ', 'kismin ':'miskin ', ' kismin ':' miskin ', ' pd ':' pada ', ' dgn ':' dengan ', ' ituu ':' itu ', ' jg ':' juga ', 'yoi':'iya ', ' yoi ':' iya ', 'org2 ':'orang ', ' tak ':' tidak ', ' kyk ':' seperti ', ' sbg ':' sebagai ', ' anjjjj ':' ', ' bgt ':' banget ', 'km ':'kamu ', ' km ':' kamu', ' byk ':' banyak ', ' lg ':' lagi ', ' mrk ':' mereka ', ' blm ':' belum '}\n",
    "\n",
    "def normalisasi(str_text):\n",
    "  for i in norm:\n",
    "    str_text = str_text.replace(i, norm[i])\n",
    "  return str_text\n",
    "\n",
    "df['content'] = df['content'].apply(lambda x: normalisasi(x))"
   ]
  },
  {
   "cell_type": "code",
   "execution_count": 15,
   "metadata": {},
   "outputs": [],
   "source": [
    "# Stopwords\n",
    "import Sastrawi\n",
    "from Sastrawi.StopWordRemover.StopWordRemoverFactory import StopWordRemoverFactory, StopWordRemover, ArrayDictionary\n",
    "more_stop_words = []\n",
    "\n",
    "stop_words = StopWordRemoverFactory().get_stop_words()\n",
    "stop_words.extend(more_stop_words)\n",
    "\n",
    "new_array = ArrayDictionary(stop_words)\n",
    "stop_words_remover_new = StopWordRemover(new_array)\n",
    "\n",
    "def stopword(str_text):\n",
    "  str_text = stop_words_remover_new.remove(str_text)\n",
    "  return str_text\n",
    "\n",
    "df['content'] = df['content'].apply(lambda x: stopword(x))"
   ]
  },
  {
   "cell_type": "code",
   "execution_count": 16,
   "metadata": {},
   "outputs": [
    {
     "data": {
      "text/plain": [
       "0      [tiktok, sangat, bagus, berkarya, mendapat, te...\n",
       "2      [maaf, kasih, 2, aplikasi, nya, kurang, bagus,...\n",
       "3      [tiktok, nya, sangat, bagus, pas, buka, video,...\n",
       "4      [dengan, tiktok, pas, buka, muter, muter, pada...\n",
       "5      [makin, update, malah, oploadnya, selalu, gaga...\n",
       "                             ...                        \n",
       "393    [hallo, sangat, kecewa, sama, tiktok, saya, pu...\n",
       "394    [aplikasi, sangat, penting, menghibur, menarik...\n",
       "395    [aplikasi, sangat, bagus, menghibur, sayang, h...\n",
       "396    [banyak, ilmu, didapat, untuk, pengalaman, dis...\n",
       "397    [filter, yang, bisa, dipakai, walaupun, di, up...\n",
       "Name: content, Length: 381, dtype: object"
      ]
     },
     "execution_count": 16,
     "metadata": {},
     "output_type": "execute_result"
    }
   ],
   "source": [
    "# Tokenize\n",
    "tokenized = df['content'].apply(lambda x:x.split())\n",
    "tokenized"
   ]
  },
  {
   "cell_type": "code",
   "execution_count": 17,
   "metadata": {
    "scrolled": true
   },
   "outputs": [
    {
     "name": "stdout",
     "output_type": "stream",
     "text": [
      "tiktok sangat bagus karya dapat teman banyak bagai daerah jika untung hasil cuan moga tiktok tambah fitur bagai fasilitas sukses and maju tiktok\n",
      "maaf kasih 2 aplikasi nya kurang bagus padahal jaring full klw udah buka sekali bisa buka lqi\n",
      "tiktok nya sangat bagus pas buka video nya nonton tidak kapai jadi di baik yakkk tiktok paling the best\n",
      "dengan tiktok pas buka muter muter padahal wifi penuh gambar nya muter hitam ada gambar nya di baik dong\n",
      "makin update malah oploadnya selalu gagal mulu slalu hapus terus tambah buruk aja nih aplikasi\n",
      "terima kasih tik tok untuk tik tok ini masuk dalam peringkat social populer mudah cari mengupdatenya terima kasih\n",
      "aku suka sama nih tiktok aku serba gagal buat bikin video aku aplod nga like\n",
      "poko bagus kalau lebih bagus seperti efect kurang lain\n",
      "kalau mau bikin video lewat templat kadang kadang engga mau simpan video kadang dan kadang engga\n",
      "aplikasi bagus banget kenapa aku tambah lagu tik tok favorit muncul sana pliss pulih kan\n",
      "telah baharu wilayah tidak unggah foto atau video tanggap\n",
      "sangat puas sama tiktok is the best terikasih tiktok kamu sangat beri inspirasi\n",
      "sekarang pas download tiktok langsung dapet updet barunyaharus nga updet sendiri terus lama dapet updet baru nya\n",
      "hadeh jaring stabil terus udah 5 hari padahal jaring bagus wifi bagus\n",
      "dulu kecewa saya tidal isi ulang coin kalo sudah saya tambah bintang\n",
      "satu dulu soal buka tiktok slalu tanggap padahal baru update\n",
      "aplikasi tiktoknya tidak buka anjj apk tololl\n",
      "ga tau akhir buka live nge lag buka vidio lag padahal quota banyak buka aplikasi lain lancar aja pas buka tiktok alloh nge lag sumpah capee\n",
      "lumayan oke buat hiburantapi sekarang tidakada notivikasi apa tiktok tidakbisa buka\n",
      "efek tidakbisa ganti kalo mau joinsllu layar biru tidakbisa di ganti posisi\n",
      "bagus sukakarna tiktok rasa hibur khusus tki kerja luar negri bisa punya bnyak teman kami bisa hibur diri buat vidio moga tiktok depan makin maju bekembang\n",
      "app na bagustingkatkan cara kerja na lebih baik klau tambah fitur gambar na\n",
      "kok aku gabisa update tiktok nya\n",
      "aplikasi buruk bisa berexpresi bebas goblokk\n",
      "saat masuk tiktok bisa mengunakan template capcut\n",
      "ya tik tok aku ngak muncul kurun mohon cerah trimah kasih\n",
      "video live ngelag parah video live putar alias henti tidak suara orang video nya aja lag parah banget sangat kecewa\n",
      "tik tok aplikasi bagus banyak suka masyarakat kalau masalah tik tok tanggap baik cepat\n",
      "ya tiktok tidak buat komenanti baik dulu\n",
      "lama tiktok baguscuma sayangsaya ada negri orangyang tidaksemua hp muncul tiktokshop nyajd bisa jalan bisnis tiktokshop\n",
      "mohon maaf apl tiktok pakai kok ada tanda jejak kaki yahjd tidak tau siapa2 yang suka liat profile saya\n",
      "update aplikasi hp sering restart baik seperti dulu hp sering restart ingin buka aplikasi terima kasih\n",
      "terima kasih tiktok terus kembang dg tiktok sy hubung sj nal banyak org baik\n",
      "kalian keluh soal lag atau fiturfitur nya lag perlu kalian tahu aplikasi ada negara indonesia ada versi asia mengunakan aplikasi negara perlu kalian tahu cairo dan indonesia jauh wajah bila jaring nya optimal\n",
      "selalu ngk buka ikut tambah pada hilang ngk naik ikut nya\n",
      "ya sai masuk tiktok semua filter ada\n",
      "kesal kali buka tik tok apa apa udah tutup aplikasi tik tok tanggap tidak buka video\n",
      "tiktok memang bagus baik saya bikin susah top up coin\n",
      "cod tiktok ku bisa biasa aja jadi malas belanja kalo cod hilangin\n",
      "waw tiktok bagus banget bisa hasil uang gass\n",
      "tiktok dah oke fitur nya kren di prbanyak jga durasi ft nya tmbahin biar puas\n",
      "sukatpi ya sekarang ko kadang suka ngebelng sendiri\n",
      "tiktok oke mau nonton belanja semua serba oke\n",
      "aplikasi selalu bilang jaring stabil padahal wifi jaring bagus\n",
      "sangat hibur bisa berexfresi walaupun kadang fitur fiturnya suka bisa pakai\n",
      "cukup bagus appnja aneka videonja sangat tarik bagus tonton baik terima kasih ulas saya\n",
      "saat bagus cuma kadang lot putar video\n",
      "sering nglag padahal sinyal bgus video macet2 tidakda kuota pdhal kuota baru isi baik\n",
      "09122023 tiktok erorsaya kira sinyal bermasalahternyata tiktoknya eror terus live mau masuk live orang\n",
      "jadi banyak iklan nya bat balas chat aja sdh iklan iklan lagl aree\n",
      "bagus q bisa pake tik tok shop padahal ken banget jual kayak lain\n",
      "sgt suka tiktok kreeennn buat hibur terlalu banyak langgan nya\n",
      "gak jelas bisa login suruh tambah tanggal lahir terus bisa jelas banget\n",
      "skrg upload video pilih lagu sendiri y cari lagu pernah bisa cm musik yng rekomendasiin aplikasi aj\n",
      "aplikasi bagus kenapa kalau aplikasi diupdate ada beberapa fitur guna malah notif begini fitur tidak guna harap diupdate padahal aplikasi diupdate jadi kesalmaka itu ratingnya tidak kasih 3 dulu\n",
      "aplikasi tik tok emang bagus tambah wawas dan banyak teman\n",
      "memang thebes deh poko tiktok smoga makin rame makin manfaat buat semua guna tiktok\n",
      "tidak dapat sandi lupa emel nomer telpon pihak tik tok\n",
      "kasih bintang 4 tp ko kadang kadang scene video sudah rekam ilang sedikit saran sih tiktok lebih baik sound nya rekam sudah capek buat buah transisi tp sound nya suka ilang sendiri baik yaa\n",
      "aplikasi bagus dapat menhibur diri suka tonton aplikasi lah turut nomor dari youtube\n",
      "aplikasi nya bagus tp akhir2 kalau masuk live sinyal langsung hilang pdhl pakai wifi aplikasi lain jalan di baik\n",
      "apk bagustapi kalo buka live ampun deh lag nya jadi nyaman buat nonton padahal kuota sama wifi bagus sinyal terus kalo buka apk bagus sinyal masalah cuma pas nonton live aja\n",
      "kenapa tiktok selalu ada jaring pdhl jaring bagus terus kalo liat play store tiktok selalu ke install pdhl udah install berandamohon bantu nya pihak tiktok\n",
      "bisa login jeng t kirim deih kode na\n",
      "bisa mereset sandi tiktok susah masuk akun tiktok lama selalu gagal\n",
      "makin hari aplikasi tik tok tdk mutu semua upload hapus semua komenanti di hapus sekarang tik tok aplikasi sampah\n",
      "sejak ganti tiktok baru bisa sama sekali lihat viti mau bikin viti susah\n",
      "aplikasi jelek bisa timbang mana langgar pandu mana nggak\n",
      "sudah lama guna tiktok live streaming kenapa tiba tiba akun blokir permanen jujur rasa kecewa sendiri bingung apa alas saya sudah ajuin banding tidak tanggap\n",
      "kok tiktok nya tidakbisa d buka\n",
      "tiktok bagus keren tempat nonton kadang live terus banyak iklan jual yah kalo tiktok shop tutup soal bikin ribet ngeganggu tolong di andet yah tiktok nya biar keren\n",
      "nggak life padahal udah didaftarin pakai ktp mohon baik\n",
      "bisa pasu kode undang padahal saya kan guna baru pertama keluh tidak lolos control tipu keluh dua salah jaring harap coba itu keluh mohon baik dong pihak tik tok\n",
      "alangkah lebih baik ada atur kualitas video tonton youtube sangat bantu mereka minim kouta tetap hevan tonton video di tiktok kurang bufer video\n",
      "sangat sulit masuk kode undang guna baru kecewa kebaji tiktok lebih baik besar hadiah tonton pada undang teman di bagi kode undang tetap lolos kontrol tipu\n",
      "bagus asal guna bagus tlong tiktok lebih ketat karna tiktok banyak buat video joget2 seksi tlong lebih lihat kalau perlu blok hal2 itu\n",
      "aplikasi bagus cuma iklan nya terlalu lebih terlalu banyak semua video bagus2 koktinggal cari aja telusur tiktok mana mau dilihatterima kasih\n",
      "selamat malam kasi rat 3 dulu soal aku mau ganti tanggal lahir kok malah tulis nya gin dapat ubah tanggal lahiruntuk melanjutkantingkatkan aplikasi tiktok versi baru padahal udah update kok begini tolong dong bales\n",
      "aplikasi tipu scamm cape minjem hp temen tetangga buat download tiktok ehh malah koinya cuma 1k yang 6k padahal tulisanya per undang 10k aplikasi scam lenarikanya tidak aplikasi penipuann scamm\n",
      "baik lagi sistem nya knp kalau mau buka aplikasi selalu lag parah kirain hp aku rusak tau apk nya gin mohon pihak tiktok segera di baik terimakasih\n",
      "iklan yik tok keluar terus padahal beberapa lalu tik tok hapus akhir saya download tapi iklan keluar sy ganggu dg ini\n",
      "enatah sekarang app tiktok bisa bukatiap klik bisa kebika sedang kalo uninstal truz instal semua draf hilang sayang banget udah ngdraft banyak buat posting kala jadi sia\n",
      "baru mula maon tiktok sungguh senang sangat hibur memenri peluang kita bisa tuang bakat seni sekaligus bisnis\n",
      "mohon lokasi negara pakai isi manual jangan pakai otomatis sedang luar negeri mau akses tiktok versi negara tetapi kami sedang luar negeri susah sekali akses fitur fitur lain nya\n",
      "knp skrang malah ngga buka aplikasi mau buka tiktok ada kterangan jaring stabil pdahal sinyal bagus bnget\n",
      "tiktok sangat bantu aplikasi bagus mohon d tinju ada beberapa fiturfitur tidakada filter cantik komal kok tidakada di bantu fiturfitur\n",
      "bisa downloadd nama app keluar search di play store padahal aku sukak banget sama app walau ubah jadi tiktoktolong baik\n",
      "kok ngak fitur geser foto biasa padahal udah instal ulang tetep tidakada pliss dong tiktok baik lagi maaf ya kasih bintang 2\n",
      "gimana sih narik saldo gakbisa gagal terus bnyak sih cuman 50rb tp curang masak iya bisa tarik uang herann apa udah bayar ya capek nonton video hasil tidak bisa tarik jadi males\n",
      "tdk mendownload apk tiktok padahalterus kalo saya bikin akun ditiktok gabisa bikin akun nyanah terus saya berapa kali punya akun tetep bisa buka di baik\n",
      "bagus rentap knpa skrang sering matiklo udah bikin cape cape vidionya malah mati kmbli berandajdinya hilang vidio bikin itujlaskan cobaini tiktok versi baru\n",
      "kali kalau mau bikin event jangan nanggung2 bikin event mobile legend kok batas stok nya capek2 ngumpulin ujung nya bisa tuker kalau cuma buat popularitas sekali jangan bikin event jelas gitu gua uninstall ja nie aplikasi aplikasi jelas\n",
      "tetlalu sensitif apk iniupload vidio kadang henti tengah kadang pesan bisa hubung internet padahal kuota internet baru isijdi kasih bintang 2 duluntr udah baik baru nambah\n",
      "sekarang tiktok jadi ngelag banget yah padahal update fine aja tuh ngelag lancar jaya pas mau bikin vid tiba keluar apk nya dong di baik\n",
      "baru tiktok bisa bagi semua orang\n",
      "kalau posting sekarang kadang kadangsusah baik capcut gabisa download muter terus ngeloading kan bikin nunggu lama eh hasil gabisa download padahal baru isi quota jaring baguspertama capcut lancar eh sekarang ngeloading eh makin kesini bisaaku copot aja maaf\n",
      "sangat kecewa padahal udah download install bisa batal simpan udah ke pake banyak tidak bisa pake apknya\n",
      "bagus sih bagus aplikasi nya cuman tari saldo dana dana premium coba aja tari nya harus pake dana premium lebih bagus ngomong gitu krna ajar krna pinya ktp jdi dana premium dong tari nya jangan pake dana premium\n",
      "sempat uninstall memori penuh memori sudah kosong koneksi internet lancar cache google play store sudah hapus tetap tidak mau diinstall ulang mohon segera benah\n",
      "aku punya teman bagai negara dapat tahu banyak aku nga tau lama bantu aku segala yang aku sembunyi lama seperti dansa dan bisa bikin ditiku bahagia pokok love love love aplikasi tiktok\n",
      "maaf belum dlu masalah bukan tiktok yaa sampe tiktok hampir mau blokir jdi sekarang musically jadi tiktok mohon bantu buat rubah jadi musically dulu terimakasih\n",
      "q suka sih sama aplikasi ngunggah video q tidak suka telah unggah kita harus share beberapa aplikasi aja sih tapi mohon baik\n",
      "apa apan sekarang tiktok kok bisa muncul tamplate capcut bisa pytar video padahal jaring internet sanagt aman baharu buksn nya tambah bagus malah tambah jelek tiktok dulu lebuh bagus\n",
      "keren bagus kalau cepat mode fast slow 2 kali pencet filter filter baru\n",
      "appk nya bagus aku igin bisa baik saat si update baru jagan yang hilang saat aku danloud update akun ikut hilang jadi mohon baik cepat\n",
      "sangat suka video musik terima kasi banget buat tiktok yan selalu beri video teman2 yan sangat menhibur saat sendiri mana kapan beradaterima kasi buat tiktok moga terus asi video musik yan bagus kern2 semua terima kasih tiktok\n",
      "terima kasih tiktok ada apk jd banyak sahabat jalin saudara tambah wawas ilmu agama intropeksi diri posting2an temen kreator moga tambah sukses\n",
      "app tik tok sgt hibur sy kala slsai kerja app kasi bagus mudah n mndptkan sahabat teman2 n keluarga mana ada hampir sama dg fb paling mnojol nyayi n sperti suara pe nyanyi asli n me lawak ini tok pokok nya bagussss\n",
      "semenjak update tiktok makin jelas kalo buka sering diley smaa lola sekali buka lama udah gitu sering restart hp nya kalo buka tiktok dong punya baik app nya biar nake bikin bete\n",
      "aplikasi bagustapi tiap live ngeleg nya banget\n",
      "bagus banget buat ngumpulin koin gajadi aku kecewa bangett\n",
      "pliss memori lebih dikecilin lgi kasihan punya hp kentang ken liat tiktok tp tidakbisa karna halang memori mau beli hp baru tidakpunya uang pihak developer untuk ksih ringan sedikit tentang memori tiktok makan habis memori 360 mb\n",
      "hi tik tok sy keluar nomor hp di tik tok sudah kebanet permanen berapa kali coba ganti kata sandi bisa di reset dn sy tidak bisa masuk tik tok sy sendiri\n",
      "dapat tampil gambar\n",
      "aplikasi fitur sedia sangat keren tolong pihak tiktok kita upload video lolong fyp nya mudah yaa karna enak udah capekcapek buat video pas upload ehhh malah fyp\n",
      "kalo nonton live orang jadi lelet banget jelas padahal semua cochie udah hapus\n",
      "ga login frekuensi kunjung terlalu sering apa apa si guna di fix di tik tok lite dulu ada maju\n",
      "habis update malah bisa buka sampe akhir instal ulang kali tetep aja bisa buka aneh bgt\n",
      "bngkenapa akun muter bng padahal reset hp gua bng gua udah susah payh bisa dapetin uang di apk tapi ujungujung nya tidak bisa di perbaikin bng buat apk\n",
      "perlu tingkat sih filter livestreaming di filter buat video ada terang nama filter apa biar tahu sipenggunanya terimakasih aja sih\n",
      "semenjak pakai tiktok makin banyak buat lebih tarik banyak pilih tiap photo video yang kita upload tiktok is the best pokok\n",
      "bagus sekali tiktok\n",
      "alhamdulillahbnyk pljrn bisa petik dg ada tiktokyg tau jd tauberbagi ilmu tnpa mrsa bosansmg kdepannya tiktok smkin majuprbnyak konten2 didik lbh bagusjd saat ank2 ikut mng instal aplikasi inikita org tua was2\n",
      "bisa masuk tik tok daftar lewat email nomer telpon tetap bisa masukkok benar benar bisa yasudah download daftar ulang ulang x tetap bisa guna nya gagal terus\n",
      "aku suka banget tik tok\n",
      "bagus cuma sering lelet tidak loading\n",
      "tiktok sekarang knpa si kalo buka susah uninstall dulu download baru buka tolong di baik dong\n",
      "jelek banget aku mau bikin video aja bisa padahal wifi aku nyala aman aman ajaadik aku main nya ada masalahkok aku gin malah mana cepet benerin donk\n",
      "tik tok aku gabisa buat upload video baru pdhl udah 3 kali coba video hps trs pdhl aku udah lama pake baru gabisa upload videonyaitu mslh dg tik tok aku ya\n",
      "aku mula baru banget jauh sangat asik tiktok punya sistem beda aplikasi lai seru banget\n",
      "hnya ksih rating 1 krna pas buka daftar tidak apply nia langsung keluar mohon baik yaa sya dua kali copot apply nya pas mau daftar langsung keluar aja mohon baik\n",
      "tik tok update buat filter urut apabila music klik jadi bisa lihat mana video music sebut baru\n",
      "kasih bintang 3 ajabarang kali tik tok nya erortiktok terkadang gangguanklo tiktok nya lancar gx ganggu saya kasih bintang lebih dri 5 hiiii\n",
      "makasih beri aku aplikasi sanget baguskarena aplikasi tiktok jadi tidakterasa sepi lagibanyak teman tempat bagi cerita sangat menarikaku selalu kasih baik dengn bintang 5\n",
      "terima kasih tiktok sangat sangat bantu\n",
      "pertama aku heran ada 2 tik tok padahal aku udah download tiktok satu laginah aku coba download nyata ini itu apli musicaly udah beli sama tiktokmakasih banget aku sekarang ngehapusin aib aib aku\n",
      "aplikasi tidak langsung live padahal umur lampau lebih 20 tahun sampai sekarang ikut pun sudah lebih 1000 untuk aplikasi tiktok buka akun agar say buat live\n",
      "aq suka sama aplikasi cuman bikin kesell kalo buka hari beranda jadi acak lebih di kondisi ya min\n",
      "ak kecewa ama admin tiktok comenan orang jelek presiden lolos comen kait anis selalu hapusjadi admin it logo lihat bnget admin dukung anismaaf klau kata ku kurang sopan kecewa ja gtu\n",
      "terimakasih aplikasi bagus banget bikin wawas tambah luas tiktok bisa ajar mana benar mana salah gantung fyp sih\n",
      "dear tiktok suka sekali aplikasi ada 1 kurang fitur nama kategori vidio save guna lebih mudah mensave vidio manfaat terima kasih harap ulas baca fitur siap di luncur\n",
      "suka banget sama app karna hibur saat mood kumatt tp knpa kalau klik lagu nya suka error yaaah\n",
      "apknya sangat bosan knp buka apknya selalu bisa selalu terang ada koneksi internet padahal jaring saya stabil\n",
      "bantu tiktok bisa buka lupa kata sandi imel aktip\n",
      "keren abis mantap dah\n",
      "kurang suka sama admin nya knpa kata2 kasar mnjatuhkan presiden sllu lolos\n",
      "puas postingan selalu hapus\n",
      "tiap komen selalu hapus\n",
      "byisa nambah wawas and hot hotyess\n",
      "aku sangat suka aplikasi\n",
      "moga lebih baik selalu bgus\n",
      "apk sangat indah\n",
      "kok g fitur posting ulang sama tiktok shop\n",
      "tolong tambahin fitur upload hd tiktokjangan cuma amerika iphone itu di phone nlbelum please konten kreator sangat membutuhkankarna capek editing tidak hd\n",
      "tik tok netral\n",
      "cba pihak mu profesional dikitjangan main bend akun org seenk mu aj mentang akun sebut tdk untung pihak\n",
      "efek bisa d guna\n",
      "sekarang udah komen foto\n",
      "susah banget mau top up coin nya lainkali dong d permudahh proses top up nya biar pun betah pake aplikasi\n",
      "bagus sih kalo mau coba filter baru update itu butuh waktu\n",
      "bisa downloadpadahal pakai wifi ruang simpan banyak ruang\n",
      "asalammualaikum nama syaila fairuzasaya suka banget aplikasi aplikasi hibur saat sendiri banyak video bisa palajari moga aplikasi jadi aplikasi paling suka dunia temanteman\n",
      "manfaat di guna baik untuk sebar dakwah tausiah hal hal yang beri energi positif seluruh guna tik tok utama ummat muslim dunia thanks\n",
      "sayang sekali ko lagu2 nya tidakpada muncul\n",
      "sangat suka aplikasi tapi masih video harus nya boleh tayang kan soal nya kan aplikasi masih anak kecil masih nonton aplikasi nanti bisa jadi conto buruk\n",
      "aplikasi sangat bagus guna baik tiktok jadi aplikasi baik saling komunikasi karya sesuai minat bakat masing2 guna tiktok\n",
      "belakang aplikasi suka ngelekjadi kasih bintang 2 dulu samapai aplikasi jalan normal di belakanagn\n",
      "gatau kalo nonton live mau live suka lelet padahal kuota bnyk\n",
      "hibur banget sya lama kerja luar\n",
      "sangat lama bisa menginstal nya jadi tidak suka aplikasi\n",
      "tiktok makin lama makin susah di oprasikan\n",
      "ngleg fulllllll 24 jam gimna nih tiktok makin depan makin kurang bagus\n",
      "live streaming sinyal nya putus putus\n",
      "ngk bukak live selalu ngeleg padahal kuota banyak\n",
      "harihari di live engga kirim korun gody bag awal aman dn normal sekarang ko susah dong baik lgi biar normal biasa\n",
      "sangat hibur sayang aku mula bom live kaya orang2 tiktok\n",
      "kurang koneksi smoga tingkat\n",
      "cocok buat foto komen ada ngemis like follower share jangan bawa nama agama\n",
      "banyak konten hancur moral generasi muda tidak pantas tayang\n",
      "admin gimana supaya download aplikasi tik tok smua y tdk alas jaringanmenunggu jrngan wifi makasih\n",
      "seru siihh jdi kreatif bikin koreo2 baru bisa kasih challenge temen2 makasih sdh d ikan tempat explore add yaa hyangrestus\n",
      "aga kecewa aja si filter facelift hilang soal filter banyak rubah bentuk asli natural banget hasil akhirnyakalo laen kan menor terus hidung mancung banget cocok\n",
      "apk tidak guna tolong isi ulang koin nya keranjan kuning nya tidak tambah peti tidak pokok baik dulu deh baru tambah bintang\n",
      "tik tok bagus makasih pokok kalo tidak dowload bakal nyesel bangettt belum dowload dowload aplikasi tik tok yah\n",
      "apk lain kalo user sdh rame server sering down aplikasi force close jauh saya msh suka apk keluar dr facebook saudara2nya\n",
      "sedikit batas guna android salah satu fitur hilang tidak ada mic fitur duet\n",
      "aku bingung knp klu komen kubu 01 03 sllu hapus sdng kan klu kubu 01 03 wlupun komenanti nya tidakberadab tidakkena langgar smg adminnya sllu profisional\n",
      "ga seru soal gabisa namatin kayak gamegame belah ada history gabisa jalanjalan kayak gta cuma video tidak jelas baik yah\n",
      "aplikasi bagus bangetkarna bole edit video trus video bagus bagnet\n",
      "lama bayak ter ganggu nyaman masalah pakai mati jadi aku gaya an palsu nya\n",
      "akun tidak live sekarang mau bikin vidio tidak bagus masa bikin vidio baru mulai musik habis padahal baru 5 detik musik habistolong timbang ya terima kasih\n",
      "yaa akuu mau daftar akun terus waktu masukkin tanggal bulan tahun lahir muncul tulis maaf seperti tidak penuh syarat tiktok terimakasih tarik cara nya gimana yaa\n",
      "maaf gw kasi 4bintang aja lot trus padahal jaring bagus bangat mohon selesai kendal\n",
      "app sangat bagus sangat bantu\n",
      "sya download check out tiktok shop nya selalu muncul coba terlalu banyak yah dong baik yahh kalau udah bisa aku kasik bintang 5\n",
      "ni aplikasi suka hapus sendiri lalu kalo mau download kata maaf dapat menginstal knp y\n",
      "suka banget sama tiktok tolong lah ditambahin filter bisa bikin hd sama tambah keranjang kuning nya soal suka belanja\n",
      "seing tidakbisa buka\n",
      "kembali versi lama tidaksuka versi baru harus jadi tiktoktolong balikin musically dulu\n",
      "tiktok nya jelek baik aku baru menginstal pas tanda buka aku pencet bisa di baik\n",
      "aplikasi sampahsuruh masukkin tanggal lahir salah betulmalah salahaplikasi guna mending hapus aja playstore moga app hapus playstore amin\n",
      "kalo buka komenanti pin komenanti nya kok gaada malah pin nya random bukan kasih paling atas baik supaya bisa nyaman mainin tiktok nya\n",
      "aplikasi bagus menhibur mau updatenya susah sekali coba harap kan ulang ber ulang gituh gin gin nia gue mau update efek dalam bagus semua dia coba sesal tapi update lama dah selalu harap coba\n",
      "aplikasi sangat guna sekalitapi baru download buka 5 menit chace 500mb ntah tolong baik\n",
      "mohon tingkat kan soal epek buat jadi komal sekarang ad guna ad tidak bisa tidak dulu\n",
      "mudahmudahan tiktok bantu\n",
      "hey jangan iklan tik tok jadi kuota habis garagara iklan iklan tidak guna saya sikap lah biasa jangan ada iklan kalau becus bikin apk\n",
      "senang serasa punya teman hibur\n",
      "udah update filter tiktokeh besok mau buat update tolong la baik filter nya ko buat update sih\n",
      "min tiap bukak tik tok mulu video nya knapa ya kak padahal jaring bagus hp bagus tempat bagus kenapa itu min\n",
      "sih tik tok udah error njir gw nge login akun gw trus tulis frekuasi kunjung terlalu sering padahal udah tungguin 5 jam lebih masih muncul tulis\n",
      "aplikasi tiktok tdk di buka dihpku susah banget kenapa ni moga cepat baik tetima kasih padahal biasa sy suka ngasih 5 bintang klu sudh bagus sy kasih bintang 5\n",
      "kecewa aku akun titkok ku gabisaaa dibukak padahal akun ku uda lama follower nya uda banyak kian biasa login nya fb eh masuk fb smaa akun nya beda video follower nya tidak lagi\n",
      "kecewa bangettkenapa baru musically jadi ubah campur tik toktolong kembali dulu tidaksuka dicampur2\n",
      "sedikit kecewa kurang bintangkarna saat live selalu henti tiba tiba tampa sebabpadahal jaring lancar sekali\n",
      "pihak tiktok baik aplikasi lebih baik mau simpan video bisa\n",
      "bagai mana bisa kasih bintang full download ibu kali susah padhl wifi penuh aplikasi banyak saya buang mendownload tiktok masih tetap bisa gimna sih aplikasi sngt kesal kn\n",
      "mau guna lagu susah sekali terdownload lamaa tingkat\n",
      "terima kasih tiktokdgn nya tiktok jd bnyk informasi temandn hibur bngtdgn musik nya mantul sx terima kasih banyak sehat sukses selalu\n",
      "hello slm mencihello asalamualaikumtiktok berhinti tolok bukak minta bantu anyantai tiktok\n",
      "aku senang main tiktok lah hibur tidak bosan selalu pers baru filter trgs nambah alam\n",
      "sebal main hapus postingan tampa lihat apa betul langgar situ kalo kaya gitu terus carakerjanya mending uninstalle ja\n",
      "tiktok aplikasi cman ngabisin kuota imbal nonton vidio receh jd skrang tiktok aplikasi tidakguna lama lama tidakada orang bagi nonton vidio\n",
      "bagus tp gimana cara nya tiktok an hasil uwang\n",
      "tiktokmembuat diri tetap happy hibur diri meski kerja berat jadi ringanthanks for your tiktok the best aplikasi\n",
      "stiap bikin vidio likecoment punapa sus hp iphone aj yang terlihattrus android tidak lihat id tiktok\n",
      "aplikasi manfaat terus tahan sering2 kasih voucher free ongkir tiktok shop biar makin laris dagang\n",
      "dar buat hibur kenal guna tiktokapabila suka postingan amin aja ambil baik sajayg sekira manfaat buat diri pribadi buat orang\n",
      "tiktok kalo pake lama 1bulan ko tidak bisa buka tiktok lagi sih dih baik\n",
      "di baik masa ingin instal selalu masalah kecewa\n",
      "aplikasi sangat penting anak lakilaki perempuan sedang kembang pesat bentuk sedang kembang kami ucap banyak terimakasih atas informasi sangat bantu proses bangun tepat\n",
      "app bagus cuman efek bisa pakai cuman muncul jomm wajah doang\n",
      "pihak tiktok hormat akun tidak laku live streaming padahal capai 1000 follower usia sudah atas 18 tahun mohon sangat bantuanya di muncul fitur live streamingnya terima kasih\n",
      "kasi bintang 1 aja karna id tiktok selalu blokir padahal video2 upload sopan semua sekarang saya download bisa lelet\n",
      "luar biasa mantap\n",
      "tiktok khusus pke wifi bukan sch knpa yang pake data bisa buka tiktoksaya d luar negri\n",
      "aplikasi ny jelek banget dehh jangan download yhhgak bagus percaya dehhh sama minum nyah boong pak nya bagussssssssbanget minim kasih bintang5 apk karna serubagus buat yang fakk modd instal mood nya kembali ceruahhh percaya dehhhhhsama minum yhasalamualikum teman\n",
      "sangat bagus tidakbisa ter istal\n",
      "pliss balikin musically saya lebih suka apk musically banding kan tiktok sekarang apk tiktok suka error sendiri yaa balikin apk musically min\n",
      "u k bat bk yl ao dwld kok dulu aku download udah daftar akun trus aku hapus lah sekar tidak bisa download please baik\n",
      "hibur paling asik\n",
      "aplikasi bantu banget pokok the best deh buat tik tok ayosegera download aplikasi tiktok\n",
      "masuk tiktok d sulit sih selalu keluar ada sinyal padahal ful xue\n",
      "bagus sih penggunaanya kalau akun dulu bisa masuk dan cari tidak\n",
      "neng banget tik tok mah best forever ngehibur kalau bosan terus bisa bikin vidio tik tok jadi aku neng banget makasih yang bikin aplikasi iniii aku suka banget tik tok\n",
      "aku kasi bintang satu karna aplikasi di buka lambat trus kadang2 bilangnnya jaring stabil padahal jaring bagus loh gimana sih\n",
      "gua beri bintang 3 aja soal mb tik tok terlalu besar kecil kan kasihan hp nya samsungdll kalo mb kecil gua kasi bintang full\n",
      "tambah translate tiktokthanks\n",
      "gak buat komen foto\n",
      "tiktok adil up video orang aja udah cape buat video udah di ulang boro ngelike coba yang cuma nyengir doang langsung banyak likenya\n",
      "suka banget sama aplikasi tapi efek aku deh ko efek tiktok gabisa dipake 2022 keluarang efek baru\n",
      "pake app tik tok baik aman untuk nonton semua video app tik tok\n",
      "sekarang tiktok lag terus liat live lag terus ya jadi bikin esmosi\n",
      "bagusss baik2nya jangan pilih2 kasih buat fyp trus mohon siar langsung buka smua guna tiktok karna butuh buat jual terima kasih\n",
      "susah sekali masuk undang baruselalu tipu eror jaringanpadahal aplikasi bagus undang teman bisa\n",
      "assalamualaikum dear tiktok salut tiktok sdh apk ny baguss tambah tani ku kala lock down terimakasih\n",
      "aplikasi jelek bangeeeeeeeeeeeeeeeeet bohon aplikasi bagus banget terimakasih tik tok\n",
      "plis bngt pihak tiktok kok akun lma ku g bsa msuk tulis nyfrekuensi terlalu sering kunjung pdhl udah 5 download hpus msh g bsa data udah hps ttap aj kok briq bet y\n",
      "relepantidak didik kandung forno graf\n",
      "aplikasi nya knpa luar negri bsa pakai pdhal sinyal internet bagusada tau ya\n",
      "mula blom bnyk tau aplikasi tpi sangat suka dengan aplikasi saya hibur diri sendiri moga aplikasi makin melejittt\n",
      "kembali musically versi belum karna kalau musically sama tiktok gabung memori bakal penuh sekali kami minta untuk kembali musically versi lama\n",
      "level kecil bisa bikin live aplikasi nya di kembangin maka akan kurang satu satu bintang nya\n",
      "skarang tik tok sya guna pvn nonton live\n",
      "sllu ngleg padahal koneksi internet bagus\n",
      "akun terus2 an tangguh padahal akun baru gabisa login login ingat akun blok lama pdhl tidak ngapa2 in post vid aja gapernah kasih solusi\n",
      "tolong mudah simpan video karna saya simpan video bagi dulu lalu instagram\n",
      "apk tiktok nya pervaikin lgi dong kerja luar negrijdi cuman hibur kya liat video d tiktok kalo tiktok nya masa tidakbisa buka terus msa sya unistal terus sih di baik lgi dong apk nya adminterima kasih\n",
      "tiktok tuh sensitif bgtt masaa iya komen dkit lgsg hapus otomatis komennya kn mmbela kbnran sdgkan video nya nganiaya lah ngehina agama lah gilir kya gitu ngga dibanned anehh bgtt di banned mlh gasalah apaa anehh emg tiktok\n",
      "aplikasi sangat bagus kurang aplikasi adalah even muncul halaman harap developer erti dan baik nya\n",
      "apk nya bagus bangettapi buka blokir nya saya sangat butuh akun yanh nama itsyourbeby sekali saya mohon maaf saya buat salah di tiktok\n",
      "permisi mau tanya dong knapa tik tok aku kalau pakai wifi malah lot wifi nya bagus kok\n",
      "aku sangat suka pakai aplikasi tiktok tapi ko aku buat video slow musik ngah complit dong\n",
      "knp musically sama kayak tiktokayo lah please musically tetap musicallydan tiktok tetap tiktokgk ush d sama samainkumohon kembali musically versi dulu\n",
      "salam bagus buat hibur alam hidup pas deh pokok trmksh tiktok sukses tambah maju kembang buat kontenbaru oke\n",
      "aplikasi bagus sekali banyak filter bagus hibur banyak orang banyak drama bisa nonton sumpah siapa download bakal nyesel\n",
      "aplikasi bagus banget aku suka sama aplikasi iniaku sini lihat video tik tok nya bts blackpinkkarena aku adalah orang army orang blinksjadi aku kasi 5 bintang deh\n",
      "aku sangat suka aplikasi tik tok suka eror bisa buka sama sekali\n",
      "aplikasi tiktok bikin ingin sekolah sd karna uang saku waktu aku sd sangat murah sekali aku senang sekali ingat waktu dulu pernah ngiseng nyng katok\n",
      "sangat bantu saat suntuk\n",
      "sangat hibur muas\n",
      "aplikasi tiktok sangat bagus cuma kadang sedikit masalah kallo yang komenanti trus balas suka muncul balesannya\n",
      "apa cuma tiktok ku tidakbisa upgrade sama ada krenjang kuning solusi dong software udah baru kok\n",
      "banyak bantu shop online nya sy saudi belanja perlu sy ingin untuk harga ny murah terimakasih tiktok\n",
      "suka tiktok bisa ajar banyak kehidupanshalat baca ceramah sangat bagus\n",
      "aplikasi bagus kurang dikit sih saya baca aplikasi bukan usernya awokawok\n",
      "tik tok anj nickname nya ko ada larang buat orang2 anjin hina agama ko blokir blokir orang2 nickname nya hina agama tolon di blokir\n",
      "saya beri bintang 5 tiktok bisa hilang stress saat frustasi kerja maupin masalah\n",
      "mantul buat hibur mantep thebest pokok\n",
      "aplikasi tidakbisa download padahal internet kuatpenyimpanan banyak download apk bisa untuk apk tiktok tidakbisa\n",
      "bagus banget sih buat karya banyak bet fitur nya yang paling gw suka di beranda video ooaim ketu ngakak bet sih keren dah\n",
      "sekarang app tiktok bisa tambah lagu file musik hp sendiri\n",
      "bagus banyak minat mudah akses dulu aku mimpi sekarang jadi nyata guna tik tok salam bos tik tok terimakasih moga aku banyak kasih like following\n",
      "sangat bagus sangat menghiburtapi aplikasi tik tok saya pakai tidak foto tolong dong bikin foto dong\n",
      "sedikit kecewa sama tiktok tiap nonton salalu muncul jaring sedia padahal jaring bagus aja kalo nontonnya lama mala minta kode tiktok hmmmm tolon baik\n",
      "apa cuma gua ngerasa tiktok sekarang pas nonton video gebugmancet gtu tiktok yang nonton rasa ganggu\n",
      "bagus sih donload nya kok lama ulang terus mohon pihak tik tok diperbaikiinstal ny lama jadi tidakbisa tik tok kan deh\n",
      "tiktok sembarang blokir pesan makin jelas aplikasi\n",
      "bisa buka\n",
      "kamera tiktok nya jelek banget bagai guna user android sangat kecewa kamera beri tiktok\n",
      "apk sangat bagus bisa jadi makin pandai buat fidio edit fidio\n",
      "efek slowmotion sekarang kurang bagusmasa musik nya ilang begitugak pas sama sekalikecewa gue\n",
      "aku kecewa apk tik tokduku tidakngelagkok sekarang suka ngelag jadi masuk tik tok jadi susahtolong baik\n",
      "sangat buruk coba tonton video lama tidak dapat point hasil tonton sering ini\n",
      "mantap njinxcewenya montok montok cocok buat bacolsaya saran tambah genre japaneseindonesiablondearabteenbeatiful boobsdan banyak termiakasih tik tok cewelnya good banget\n",
      "apl in sangat menhiburkan semua begitu nali judul judul kita cari cari\n",
      "apk nya bagus cuman lebih filter untuk masuk fyp nya sekarang jadi susah buat fyp\n",
      "tik tok sangat bagus buat hibur banyak di salah guna masalah negara saling bakar bendera kasih ingat jangan bawa bawa negara bendera negara buat video tik tok\n",
      "aplikasi hibur baik gabut aplikasi terupdate kalo ada info berita pokok aku sukaaa\n",
      "kendala aplikasi tiktok tidak semua lagu pakai ntah atur apa gmna\n",
      "sangat senang jumpa teman lama baru sini sedia dunia baru sangat bagus sangat suka aplikasi\n",
      "bisa lebih bagus watermark android samain sama iphone terus kalo guna bikin like ada yang komen percuma kan buat\n",
      "sekarang tiktok kok susah memposting yaasetiap aku mau post selalu gagal padahal udah instal ulangtapi tetap aja gitu sekarang tiktok makin aneh aja\n",
      "aplikasi asyik seru buat hibur mantul mantap betul\n",
      "aplikasi nama tiktok bisa buat aku jadi tertawa senang tertawa saat aku sedih anda ayo download aplikasi nama tiktok play store pun app store 5 stars\n",
      "bnyk iklan ngelag suka font ny fyp nya ska muncul gjelas lebih suka pke tiktok lite\n",
      "tiktok tambah fitur 18 18 saat uploadagar ada anak kecil lihat konten 18\n",
      "tidak mendownlod apk hapus semua foto apk lain tetap tidak bisik saya kasih bintang 1 tolong baik\n",
      "bagus banget simpan di galeri hasil nya terus di pasang ss wa pokok nya bagus deh\n",
      "aplikasi tik tok tiap unduh kok bisa pasang harus ngunduh ulang ulang kali\n",
      "mendownload aplikasi ulang kali kali knp bisa sudah tiga kali coba hasil sama mohon info\n",
      "samgat hibur guna aplikasi tapi sayang tik tok belum aku hapus jd sekarang download mudah2an aku guna account lama\n",
      "aplikasi santidak t bagus juga sangat hibur kalau sedang nggak muut coco banget liat aplikasi pasti jamin ngakak\n",
      "kasih bintang 4 app benar bagus saya cuma kasih bintang 4 bukan bintang lima tidak slowmo potong potong gitu deh\n",
      "ini slowmo nya tiktok benerin karna udah bagus bagus ehh buang sendiri habis mau uploud aku udah tunnguin lama malah mohon maaf coba ulang itu terima kasih\n",
      "kok bisa unduh suara jadi ada lagu kalau mau main tiktok\n",
      "suka banget sama aplikasi sangat hibur senang moga makin kembang untuk depan\n",
      "tiktok update makain nyaman sekarang tidak skip cepat video tiktok resah\n",
      "hahahah aplikasi buruk udah downlod nonton sudah dftar kan diri sajah enga bisa sagat sayang di perbaikiklo udah baik saya kasi 5bintang\n",
      "aplikasi tiktok bgs syg waktu live tmn tdk lht org live bisa komenanti ja bisa lht\n",
      "asli nya sih baik baik aja kenapa tidak kirim pesan sedangakn lain untuk tiktok minta di baik\n",
      "tik tok emang kren knp aku tidakbisa daftar kalo aku daftar tulis seperti tidak penuh syarat tik tok\n",
      "tambah wawas tahu kita sendiri tahu juga kenal berita negara luar di negara sendiri\n",
      "apk nya udah download kok tidakbisa yh malah suruh download ulg sia ajh nih pdhl tdi udah menginstal eh kok layar utma hp gue tidakadalngsng cek plystore yh ngulang deh knp gitu gan\n",
      "jelek ko da banyak tiktok bingung milih dah aplikasi asli palsu bingung lagi deh donload s sekarang baru tau kan asli ribeeeeet\n",
      "mantap apkisi nyaterimakasih smoga depan nya makin fitur filter baru the best\n",
      "aplikasi dulu nya bilang alay sekarang jadi aplikasi paling populer ini emang ada tahu masa depan\n",
      "sayan suka sekali sama tik tok karena bikin video bisa simpan bisa bagi teman teman seruh deh\n",
      "terima kasih tiktok apk bagus liat kayes joged cewek lai live streaming nya mantap mantap kurang pakek bh aja tiktok terima kasih\n",
      "aplikasi sangat manfaat moga makin sukses berkah selalu terimakasih tiktok\n",
      "akun kunci udah kirim data data aku pernah urus paling bls email suruh kirim data mulu padahal udah kecewaa bgt\n",
      "wowapk sangat baguskepada pihak garena di tingkat lagiselebihnya bagus sih moontonmemang mantap lah tencent\n",
      "nggak live 9 komal kok lain kenapa nggak ayo update 9 komal please\n",
      "dong jangan macet lagiga bikin vt bisa edit profil kenapa sih\n",
      "aplikasi mutu main blok aja unistall males bikin account baru gue bikin cuma buat awas anak fix satu keluarga unistall butuh tiktok bilang kalian dpt coin jng percaya diboongin coin gue ilang sendiri\n",
      "video di refresh video bisa lain terus ajah ada\n",
      "gk bagus banget app masah sih akun blokir kan tidakngapa ngapain kesel banget udah daftar kali kali tidakada hasil nia mohon di baik app karna juga main tik tok orang juga\n",
      "hai kenal nama hasna aulia aku suka bangt tik tok kalian langsung donwlod aplikasi tik tok akan nyesel deh kalian guna aplikasi tik tok senang senag terimakasih aplikasi tik tok\n",
      "aplikasi bagus banget buat orang banyak bisa tunjuk bakat masingmasing tik tok\n",
      "aplikasi sangat hibur tetap maju kan program baru tik tok\n",
      "aplikasi tiktok hapus trus coba mendownload enggak gimna cara yah\n",
      "hormat pihak musically kecewa ada baru inimungkin bukan aja kecewa ada baru inikami mohon maaf sekaliapakah musically dikembalikanmaaf bila salah kata\n",
      "bagus ngedonload nya lama kalo nanti cuma sebenanti aku kasih 5sama udah 24 mnt kok 11padahal jaring bagus\n",
      "bagus sihtapi hampir semua lagu indiadj nya cuma sedikit baik\n",
      "lebih pilih musically duluplis deh gosah campur2tik tok campur musically mau jadi apaplis kembali musical dulu bukan yang skrg\n",
      "bagus sih aplikasinyatp terkadang kena blok padahal ada melanggartp liat cd nya sam tetek aman\n",
      "sumpah nyesel bngt upgratny kirain pas udah dupgrt tambah bangus ehhh malah jls mana pke lgu sndiri lagitruss knp fariasiny sbnyak ip dri awalny mc ehh mlh jdi tik tok trpksa aj pke apk in krna hobi kalo bisa tolongkeren baik dulu\n",
      "aplikasi cukup baguscman krna z bkn nilai aplikasi lain sebagainyajadi aplikasi q kasih bintang lima ajh gitu\n",
      "sangat bagus zangan rupa danlout nia wa buat apa papa sangat bagus jangan rupa wa kasi binta lima sungu ini sagat bagus masuk daftar dulu wa\n",
      "gak update aplikasigak unggah videokomplit pokok mah\n",
      "tidak merkam lagu ada tik tok tidak levsing lagu lagu cant levsing songs\n",
      "tiktok makin bagus kalau banyakbanyak gratis ongkir\n",
      "makasih tik tok moga semua hibur salur bakat juga saling untung\n",
      "download nya 73mb pas udah pasang liat video tbtb 1gb lebih need banget buat hp kapasitas kecil\n",
      "kasih fitur cadang tema fyp dong jdi kalo uninstall terus instal jadi sama fypnya kayak di install jdi perlu sesuai lgi\n",
      "sii suka sma apl cuma yaa krna gabung transisi spt tdk harga kalo sii saran logo tiktok dab musically tengah tengah sja jangan smua logo tiktok mksihh\n",
      "baru baru sih jelek dikit yasoalnya jaring baguskok jalan lambat banget\n",
      "apk nya suka keluar sendiri pas upload suka gagal mohon baik\n",
      "terimakasih tiktokkarena hibur aplikasi buat sakit mulai baik saya sudah mem\n",
      "aplikasi sangat bagus ngobrol sama temanteman curhatcurhat ketawa\n",
      "sya sangat hibur kerika tonton tiktok situ video sangat tarik\n",
      "update filter lebih bagus lagisesuaidengan musik tiktok\n",
      "kasih fitur live stremingnya beri pilih grafik fhd hd sd jadi burik burik hp panjang2 jaman sekarang ini live rata2 jual jd nontonnya lihat barang jd bagus\n",
      "tiktok keren banget ajar ketawa poko banyak da 1112 lah sama youtube\n",
      "gila parah banget tiktok sekarang upload video dr mlm sampe pagi ada like views n coment sama sekali parah banget ngerti sama algoritma tiktok\n",
      "mau akun yang udah lama kembali soal nya udah coba berapa kali kata sandi salah terus nomor telepon sama email tidak aktif moga kembali akun\n",
      "hallo sangat kecewa sama tiktok saya punya akun facebook tadi aku mau login muncul muncul baik\n",
      "aplikasi sangat penting hibur tarik waktu sedih\n",
      "aplikasi sangat bagus hibur sayang hp sya kentang jdi memori cepat penuh\n",
      "banyak ilmu dapat untuk alam tiap waktu simpan aman\n",
      "filter yang bisa pakai walaupun di update ulang kali\n"
     ]
    }
   ],
   "source": [
    "# Stemming\n",
    "from Sastrawi.Stemmer.StemmerFactory import StemmerFactory\n",
    "\n",
    "def stemming(text_cleaning):\n",
    "  factory = StemmerFactory()\n",
    "  stemmer = factory.create_stemmer()\n",
    "  do = []\n",
    "  for w in text_cleaning:\n",
    "    dt = stemmer.stem(w)\n",
    "    do.append(dt)\n",
    "  d_clean = []\n",
    "  d_clean = \" \".join(do)\n",
    "  print(d_clean)\n",
    "  return d_clean\n",
    "\n",
    "tokenized = tokenized.apply(stemming)"
   ]
  },
  {
   "cell_type": "code",
   "execution_count": 18,
   "metadata": {},
   "outputs": [
    {
     "data": {
      "text/plain": [
       "0    tiktok sangat bagus karya dapat teman banyak b...\n",
       "2    maaf kasih 2 aplikasi nya kurang bagus padahal...\n",
       "3    tiktok nya sangat bagus pas buka video nya non...\n",
       "4    dengan tiktok pas buka muter muter padahal wif...\n",
       "5    makin update malah oploadnya selalu gagal mulu...\n",
       "Name: content, dtype: object"
      ]
     },
     "execution_count": 18,
     "metadata": {},
     "output_type": "execute_result"
    }
   ],
   "source": [
    "tokenized.head()"
   ]
  },
  {
   "cell_type": "code",
   "execution_count": 19,
   "metadata": {},
   "outputs": [
    {
     "data": {
      "text/plain": [
       "0    5\n",
       "1    5\n",
       "2    2\n",
       "3    3\n",
       "4    2\n",
       "Name: score, dtype: int64"
      ]
     },
     "execution_count": 19,
     "metadata": {},
     "output_type": "execute_result"
    }
   ],
   "source": [
    "score.head()"
   ]
  },
  {
   "cell_type": "code",
   "execution_count": 20,
   "metadata": {},
   "outputs": [],
   "source": [
    "# Menggabungkan kedua DataFrame berdasarkan index\n",
    "score.drop(columns=[\"Unnamed: 0\"], inplace=True)\n",
    "df = pd.concat([tokenized, score], axis=1)"
   ]
  },
  {
   "cell_type": "code",
   "execution_count": 21,
   "metadata": {},
   "outputs": [
    {
     "data": {
      "text/html": [
       "<div>\n",
       "<style scoped>\n",
       "    .dataframe tbody tr th:only-of-type {\n",
       "        vertical-align: middle;\n",
       "    }\n",
       "\n",
       "    .dataframe tbody tr th {\n",
       "        vertical-align: top;\n",
       "    }\n",
       "\n",
       "    .dataframe thead th {\n",
       "        text-align: right;\n",
       "    }\n",
       "</style>\n",
       "<table border=\"1\" class=\"dataframe\">\n",
       "  <thead>\n",
       "    <tr style=\"text-align: right;\">\n",
       "      <th></th>\n",
       "      <th>content</th>\n",
       "      <th>score</th>\n",
       "    </tr>\n",
       "  </thead>\n",
       "  <tbody>\n",
       "    <tr>\n",
       "      <th>0</th>\n",
       "      <td>tiktok sangat bagus karya dapat teman banyak b...</td>\n",
       "      <td>5</td>\n",
       "    </tr>\n",
       "    <tr>\n",
       "      <th>2</th>\n",
       "      <td>maaf kasih 2 aplikasi nya kurang bagus padahal...</td>\n",
       "      <td>2</td>\n",
       "    </tr>\n",
       "    <tr>\n",
       "      <th>3</th>\n",
       "      <td>tiktok nya sangat bagus pas buka video nya non...</td>\n",
       "      <td>3</td>\n",
       "    </tr>\n",
       "    <tr>\n",
       "      <th>4</th>\n",
       "      <td>dengan tiktok pas buka muter muter padahal wif...</td>\n",
       "      <td>2</td>\n",
       "    </tr>\n",
       "    <tr>\n",
       "      <th>5</th>\n",
       "      <td>makin update malah oploadnya selalu gagal mulu...</td>\n",
       "      <td>1</td>\n",
       "    </tr>\n",
       "  </tbody>\n",
       "</table>\n",
       "</div>"
      ],
      "text/plain": [
       "                                             content  score\n",
       "0  tiktok sangat bagus karya dapat teman banyak b...      5\n",
       "2  maaf kasih 2 aplikasi nya kurang bagus padahal...      2\n",
       "3  tiktok nya sangat bagus pas buka video nya non...      3\n",
       "4  dengan tiktok pas buka muter muter padahal wif...      2\n",
       "5  makin update malah oploadnya selalu gagal mulu...      1"
      ]
     },
     "execution_count": 21,
     "metadata": {},
     "output_type": "execute_result"
    }
   ],
   "source": [
    "df.head()"
   ]
  },
  {
   "cell_type": "markdown",
   "metadata": {},
   "source": [
    "## 3. Labeling"
   ]
  },
  {
   "cell_type": "code",
   "execution_count": 22,
   "metadata": {},
   "outputs": [],
   "source": [
    "def label_sentiment(score):\n",
    "    if score <= 2:\n",
    "        return 'negatif'\n",
    "    # elif score == 3:\n",
    "    #     return 'netral'\n",
    "    else:\n",
    "        return 'positif'\n",
    "\n",
    "df['sentimen'] = df['score'].apply(label_sentiment)"
   ]
  },
  {
   "cell_type": "code",
   "execution_count": 23,
   "metadata": {},
   "outputs": [
    {
     "data": {
      "text/plain": [
       "sentimen\n",
       "positif    247\n",
       "negatif    151\n",
       "Name: count, dtype: int64"
      ]
     },
     "execution_count": 23,
     "metadata": {},
     "output_type": "execute_result"
    }
   ],
   "source": [
    "sentimen_counts = df.sentimen.value_counts()\n",
    "sentimen_counts"
   ]
  },
  {
   "cell_type": "markdown",
   "metadata": {},
   "source": [
    "## 4. Visualization"
   ]
  },
  {
   "cell_type": "code",
   "execution_count": 24,
   "metadata": {},
   "outputs": [
    {
     "data": {
      "image/png": "[encoded data removed]",
      "text/plain": [
       "<Figure size 600x400 with 1 Axes>"
      ]
     },
     "metadata": {},
     "output_type": "display_data"
    }
   ],
   "source": [
    "import seaborn as sns\n",
    "import matplotlib.pyplot as plt\n",
    "from wordcloud import WordCloud, STOPWORDS\n",
    "\n",
    "# Visualisasi\n",
    "sns.set_palette(\"pastel\")\n",
    "plt.figure(figsize=(6, 4))\n",
    "sns.countplot(x='sentimen', data=df)\n",
    "plt.title('Distribusi Sentimen')\n",
    "plt.xlabel('Sentimen')\n",
    "plt.ylabel('Jumlah')\n",
    "plt.show()"
   ]
  },
  {
   "cell_type": "code",
   "execution_count": 25,
   "metadata": {},
   "outputs": [],
   "source": [
    "data_negatif = df[df['sentimen'] == 'negatif']\n",
    "data_positif = df[df['sentimen'] == 'positif']"
   ]
  },
  {
   "cell_type": "code",
   "execution_count": 26,
   "metadata": {},
   "outputs": [
    {
     "ename": "TypeError",
     "evalue": "sequence item 238: expected str instance, float found",
     "output_type": "error",
     "traceback": [
      "\u001b[1;31m---------------------------------------------------------------------------\u001b[0m",
      "\u001b[1;31mTypeError\u001b[0m                                 Traceback (most recent call last)",
      "Cell \u001b[1;32mIn[26], line 1\u001b[0m\n\u001b[1;32m----> 1\u001b[0m all_text_s1 \u001b[38;5;241m=\u001b[39m \u001b[38;5;124;43m'\u001b[39;49m\u001b[38;5;124;43m \u001b[39;49m\u001b[38;5;124;43m'\u001b[39;49m\u001b[38;5;241;43m.\u001b[39;49m\u001b[43mjoin\u001b[49m\u001b[43m(\u001b[49m\u001b[43mword\u001b[49m\u001b[43m \u001b[49m\u001b[38;5;28;43;01mfor\u001b[39;49;00m\u001b[43m \u001b[49m\u001b[43mword\u001b[49m\u001b[43m \u001b[49m\u001b[38;5;129;43;01min\u001b[39;49;00m\u001b[43m \u001b[49m\u001b[43mdata_positif\u001b[49m\u001b[43m[\u001b[49m\u001b[38;5;124;43m\"\u001b[39;49m\u001b[38;5;124;43mcontent\u001b[39;49m\u001b[38;5;124;43m\"\u001b[39;49m\u001b[43m]\u001b[49m\u001b[43m)\u001b[49m\n\u001b[0;32m      2\u001b[0m wordcloud \u001b[38;5;241m=\u001b[39m WordCloud(colormap\u001b[38;5;241m=\u001b[39m\u001b[38;5;124m'\u001b[39m\u001b[38;5;124mBlues\u001b[39m\u001b[38;5;124m'\u001b[39m, width\u001b[38;5;241m=\u001b[39m\u001b[38;5;241m1000\u001b[39m, height\u001b[38;5;241m=\u001b[39m\u001b[38;5;241m1000\u001b[39m, mode\u001b[38;5;241m=\u001b[39m\u001b[38;5;124m\"\u001b[39m\u001b[38;5;124mRGBA\u001b[39m\u001b[38;5;124m\"\u001b[39m, background_color\u001b[38;5;241m=\u001b[39m\u001b[38;5;124m'\u001b[39m\u001b[38;5;124mwhite\u001b[39m\u001b[38;5;124m'\u001b[39m)\u001b[38;5;241m.\u001b[39mgenerate(all_text_s1)\n\u001b[0;32m      3\u001b[0m plt\u001b[38;5;241m.\u001b[39mfigure(figsize\u001b[38;5;241m=\u001b[39m(\u001b[38;5;241m6\u001b[39m, \u001b[38;5;241m4\u001b[39m))\n",
      "\u001b[1;31mTypeError\u001b[0m: sequence item 238: expected str instance, float found"
     ]
    }
   ],
   "source": [
    "all_text_s1 = ' '.join(word for word in data_positif[\"content\"])\n",
    "wordcloud = WordCloud(colormap='Blues', width=1000, height=1000, mode=\"RGBA\", background_color='white').generate(all_text_s1)\n",
    "plt.figure(figsize=(6, 4))\n",
    "plt.imshow(wordcloud, interpolation='bilinear')\n",
    "plt.axis(\"off\")\n",
    "plt.title(\"Visualisasi Kata Positif\")\n",
    "plt.margins(x=0, y=0)\n",
    "plt.show()"
   ]
  },
  {
   "cell_type": "code",
   "execution_count": null,
   "metadata": {},
   "outputs": [],
   "source": [
    "all_text_s0 = ' '.join(word for word in data_negatif[\"content\"])\n",
    "wordcloud = WordCloud(colormap='Reds', width=1000, height=1000, mode='RGBA', background_color='white').generate(all_text_s0)\n",
    "plt.figure(figsize=(6, 4))\n",
    "plt.imshow(wordcloud, interpolation='bilinear')\n",
    "plt.axis('off')\n",
    "plt.title(\"Visualisasi Kata Negatif\")\n",
    "plt.margins(x=0, y=0)\n",
    "plt.show()"
   ]
  },
  {
   "cell_type": "markdown",
   "metadata": {},
   "source": [
    "## 5. Spliting Data"
   ]
  },
  {
   "cell_type": "code",
   "execution_count": 27,
   "metadata": {},
   "outputs": [],
   "source": [
    "X=df.content\n",
    "y=df.sentimen"
   ]
  },
  {
   "cell_type": "code",
   "execution_count": 28,
   "metadata": {},
   "outputs": [],
   "source": [
    "from sklearn.model_selection import train_test_split\n",
    "\n",
    "x_train, x_test, y_train, y_test = train_test_split(X,y,test_size=0.2, random_state=42)"
   ]
  },
  {
   "cell_type": "code",
   "execution_count": 29,
   "metadata": {},
   "outputs": [
    {
     "name": "stdout",
     "output_type": "stream",
     "text": [
      "Banyak data x_train : 318\n",
      "Banyak data x_test  : 80\n",
      "Banyak data y_train : 318\n",
      "Banyak data y_test  : 80\n"
     ]
    }
   ],
   "source": [
    "print('Banyak data x_train :',len(x_train))\n",
    "print('Banyak data x_test  :',len(x_test))\n",
    "print('Banyak data y_train :',len(y_train))\n",
    "print('Banyak data y_test  :',len(y_test))"
   ]
  },
  {
   "cell_type": "markdown",
   "metadata": {},
   "source": [
    "## 6. Training Data"
   ]
  },
  {
   "cell_type": "code",
   "execution_count": null,
   "metadata": {},
   "outputs": [],
   "source": [
    "from sklearn.feature_extraction.text import CountVectorizer,TfidfVectorizer, HashingVectorizer\n",
    "from sklearn.metrics import classification_report\n",
    "from sklearn.metrics import accuracy_score, recall_score, precision_score, f1_score\n",
    "\n",
    "cvec=CountVectorizer()\n",
    "tvec=TfidfVectorizer()\n",
    "hvec=HashingVectorizer()"
   ]
  },
  {
   "cell_type": "code",
   "execution_count": null,
   "metadata": {},
   "outputs": [],
   "source": [
    "from sklearn.svm import SVC\n",
    "from sklearn.naive_bayes import MultinomialNB\n",
    "from sklearn.ensemble import RandomForestClassifier\n",
    "from sklearn.metrics import classification_report\n",
    "\n",
    "clf1 = SVC(kernel=\"linear\") \n",
    "clf2 = MultinomialNB()\n",
    "clf3 = RandomForestClassifier()"
   ]
  },
  {
   "cell_type": "code",
   "execution_count": null,
   "metadata": {},
   "outputs": [],
   "source": [
    "from sklearn.pipeline import Pipeline\n",
    "\n",
    "model1 = Pipeline([('vectorizer',tvec)\n",
    "                 ,('classifier',clf1)])\n",
    "model2 = Pipeline([('vectorizer',tvec)\n",
    "                 ,('classifier',clf2)])\n",
    "model3 = Pipeline([('vectorizer',tvec)\n",
    "                 ,('classifier',clf3)])"
   ]
  },
  {
   "cell_type": "code",
   "execution_count": null,
   "metadata": {},
   "outputs": [],
   "source": [
    "model1.fit(x_train,y_train)"
   ]
  },
  {
   "cell_type": "code",
   "execution_count": null,
   "metadata": {},
   "outputs": [],
   "source": [
    "hasil1=model1.predict(x_test)"
   ]
  },
  {
   "cell_type": "code",
   "execution_count": null,
   "metadata": {},
   "outputs": [],
   "source": [
    "matrix = classification_report(y_test,hasil1)\n",
    "print('Classification report : \\n',matrix)"
   ]
  },
  {
   "cell_type": "code",
   "execution_count": null,
   "metadata": {},
   "outputs": [],
   "source": [
    "model2.fit(x_train,y_train)"
   ]
  },
  {
   "cell_type": "code",
   "execution_count": null,
   "metadata": {},
   "outputs": [],
   "source": [
    "hasil2=model2.predict(x_test)"
   ]
  },
  {
   "cell_type": "code",
   "execution_count": null,
   "metadata": {},
   "outputs": [],
   "source": [
    "matrix = classification_report(y_test,hasil2)\n",
    "print('Classification report : \\n',matrix)"
   ]
  },
  {
   "cell_type": "code",
   "execution_count": null,
   "metadata": {},
   "outputs": [],
   "source": [
    "model3.fit(x_train,y_train)"
   ]
  },
  {
   "cell_type": "code",
   "execution_count": null,
   "metadata": {},
   "outputs": [],
   "source": [
    "hasil3=model3.predict(x_test)"
   ]
  },
  {
   "cell_type": "code",
   "execution_count": null,
   "metadata": {},
   "outputs": [],
   "source": [
    "matrix = classification_report(y_test,hasil3)\n",
    "print('Classification report : \\n',matrix)"
   ]
  },
  {
   "cell_type": "code",
   "execution_count": null,
   "metadata": {},
   "outputs": [],
   "source": [
    "hasilDecisionTreeClassifier = accuracy_score(hasil1, y_test)\n",
    "precision1 = precision_score(y_test, hasil1, average='weighted')\n",
    "recall1 = recall_score(y_test, hasil1, average='weighted')\n",
    "f1_1 = f1_score(y_test, hasil1, average='weighted')\n",
    "\n",
    "hasilMultinomialNB = accuracy_score(hasil2, y_test)\n",
    "precision2 = precision_score(y_test, hasil2, average='weighted')\n",
    "recall2 = recall_score(y_test, hasil2, average='weighted')\n",
    "f1_2 = f1_score(y_test, hasil2, average='weighted')\n",
    "\n",
    "hasilRandomForestClassifier = accuracy_score(hasil3, y_test)\n",
    "precision3 = precision_score(y_test, hasil3, average='weighted')\n",
    "recall3 = recall_score(y_test, hasil3, average='weighted')\n",
    "f1_3 = f1_score(y_test, hasil3, average='weighted')"
   ]
  },
  {
   "cell_type": "code",
   "execution_count": null,
   "metadata": {},
   "outputs": [],
   "source": [
    "model = {'Model':['Decision Tree Classifier',\n",
    "                  'Multinomial Naive Bayes',\n",
    "                  'Random Forest Classifier',\n",
    "                 ],\n",
    "         'AccuracyScore':[hasilDecisionTreeClassifier, hasilMultinomialNB, hasilRandomForestClassifier],\n",
    "         'Precision':[precision1, precision2, precision3],\n",
    "         'Recall':[recall1, recall2, recall3],\n",
    "         'F1-Score':[f1_1, f1_2, f1_3]\n",
    "         }\n",
    "model_df = pd.DataFrame(model)\n",
    "model_df"
   ]
  },
  {
   "cell_type": "markdown",
   "metadata": {},
   "source": [
    "## 7. Testing"
   ]
  },
  {
   "cell_type": "code",
   "execution_count": null,
   "metadata": {},
   "outputs": [],
   "source": [
    "def classify_text(input_text):\n",
    "    models = [\n",
    "        ('DecisionTreeClassifier', model_decisionTree),\n",
    "        ('MultinomialNB', model_multinomialNaiveBayes),\n",
    "        ('RandomForestClassifier', model_randomForest)\n",
    "    ]\n",
    "\n",
    "    results = {}\n",
    "\n",
    "    for name, model in models:\n",
    "        prediction = model.predict([input_text])\n",
    "        results[name] = prediction[0]\n",
    "\n",
    "    return results"
   ]
  },
  {
   "cell_type": "code",
   "execution_count": null,
   "metadata": {},
   "outputs": [],
   "source": [
    "model_decisionTree = model1.fit(x_train, y_train)\n",
    "model_multinomialNaiveBayes = model2.fit(x_train, y_train)\n",
    "model_randomForest = model3.fit(x_train, y_train)"
   ]
  },
  {
   "cell_type": "code",
   "execution_count": null,
   "metadata": {},
   "outputs": [],
   "source": [
    "input_text = input(\"Masukkan teks yang ingin diklasifikasikan: \")\n",
    "\n",
    "results = classify_text(input_text)\n",
    "\n",
    "print(\"Input kata :\", input_text)\n",
    "\n",
    "print(\"\\nHasil Klasifikasi:\")\n",
    "for model, prediction in results.items():\n",
    "    print(f\"{model}: {prediction}\")"
   ]
  },
  {
   "cell_type": "code",
   "execution_count": null,
   "metadata": {},
   "outputs": [],
   "source": []
  }
 ],
 "metadata": {
  "kernelspec": {
   "display_name": "Python 3 (ipykernel)",
   "language": "python",
   "name": "python3"
  },
  "language_info": {
   "codemirror_mode": {
    "name": "ipython",
    "version": 3
   },
   "file_extension": ".py",
   "mimetype": "text/x-python",
   "name": "python",
   "nbconvert_exporter": "python",
   "pygments_lexer": "ipython3",
   "version": "3.12.3"
  }
 },
 "nbformat": 4,
 "nbformat_minor": 4
}
