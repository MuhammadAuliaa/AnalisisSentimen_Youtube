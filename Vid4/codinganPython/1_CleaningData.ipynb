{
 "cells": [
  {
   "cell_type": "code",
   "execution_count": 1,
   "metadata": {
    "executionInfo": {
     "elapsed": 763,
     "status": "ok",
     "timestamp": 1715665309468,
     "user": {
      "displayName": "Muhammad Aulia",
      "userId": "07442516879104875952"
     },
     "user_tz": -420
    },
    "id": "wRpzq6ReXmj3"
   },
   "outputs": [],
   "source": [
    "import pandas as pd\n",
    "import re"
   ]
  },
  {
   "cell_type": "code",
   "execution_count": 2,
   "metadata": {
    "colab": {
     "base_uri": "https://localhost:8080/",
     "height": 597
    },
    "executionInfo": {
     "elapsed": 1206,
     "status": "ok",
     "timestamp": 1715665328906,
     "user": {
      "displayName": "Muhammad Aulia",
      "userId": "07442516879104875952"
     },
     "user_tz": -420
    },
    "id": "PqFA0ZOlXn04",
    "outputId": "22ed99cf-f1d2-4c7b-b9f6-540b5016f135"
   },
   "outputs": [
    {
     "data": {
      "application/vnd.google.colaboratory.intrinsic+json": {
       "summary": "{\n  \"name\": \"df\",\n  \"rows\": 398,\n  \"fields\": [\n    {\n      \"column\": \"reviewId\",\n      \"properties\": {\n        \"dtype\": \"string\",\n        \"num_unique_values\": 398,\n        \"samples\": [\n          \"3d56ad3a-6aa0-4154-b2db-a95afb96ffe4\",\n          \"adc9f7f6-3586-4fa4-9e4c-01681b9c55f0\",\n          \"885095ff-4e85-4ac0-a956-d45a645f359a\"\n        ],\n        \"semantic_type\": \"\",\n        \"description\": \"\"\n      }\n    },\n    {\n      \"column\": \"userName\",\n      \"properties\": {\n        \"dtype\": \"string\",\n        \"num_unique_values\": 346,\n        \"samples\": [\n          \"jason krugger\",\n          \"Isabela 031\",\n          \"Wendi Tania\"\n        ],\n        \"semantic_type\": \"\",\n        \"description\": \"\"\n      }\n    },\n    {\n      \"column\": \"userImage\",\n      \"properties\": {\n        \"dtype\": \"string\",\n        \"num_unique_values\": 346,\n        \"samples\": [\n          \"https://play-lh.googleusercontent.com/a/ACg8ocLat9ioA73fBVUk6CikrertXerlANFeFTNwgxLzflpLOkco1w=mo\",\n          \"https://play-lh.googleusercontent.com/a/ACg8ocLTE9jYJZwOId9eEF7KV8c3GiklWbDlOIyUDI3Hci4ILMIgKQ=mo\",\n          \"https://play-lh.googleusercontent.com/a/ACg8ocKuJY5u_gMqGMPLMEYqTs0t_f424DGItXDNBFGH1a35AYtzPo4=mo\"\n        ],\n        \"semantic_type\": \"\",\n        \"description\": \"\"\n      }\n    },\n    {\n      \"column\": \"content\",\n      \"properties\": {\n        \"dtype\": \"string\",\n        \"num_unique_values\": 398,\n        \"samples\": [\n          \"agak sedikit terbatas untuk pengguna android, salah satu fitur yang hilang adalah tidak adanya mic pada fitur duet-nya\",\n          \"Banyak ilmu yang didapat dan untuk pengalaman kita disetiap waktu bisa disimpan dengan aman.\",\n          \"Terima kasih TikTok, teruslah berkembang, dg TikTok sy bisa terhubung kemana sj. Dan berkenalan dengan byk org baik.\"\n        ],\n        \"semantic_type\": \"\",\n        \"description\": \"\"\n      }\n    },\n    {\n      \"column\": \"score\",\n      \"properties\": {\n        \"dtype\": \"number\",\n        \"std\": 1,\n        \"min\": 1,\n        \"max\": 5,\n        \"num_unique_values\": 5,\n        \"samples\": [\n          2,\n          4,\n          3\n        ],\n        \"semantic_type\": \"\",\n        \"description\": \"\"\n      }\n    },\n    {\n      \"column\": \"thumbsUpCount\",\n      \"properties\": {\n        \"dtype\": \"number\",\n        \"std\": 296,\n        \"min\": 0,\n        \"max\": 2103,\n        \"num_unique_values\": 155,\n        \"samples\": [\n          14,\n          318,\n          102\n        ],\n        \"semantic_type\": \"\",\n        \"description\": \"\"\n      }\n    },\n    {\n      \"column\": \"reviewCreatedVersion\",\n      \"properties\": {\n        \"dtype\": \"category\",\n        \"num_unique_values\": 136,\n        \"samples\": [\n          \"30.8.4\",\n          \"16.0.43\",\n          \"29.6.4\"\n        ],\n        \"semantic_type\": \"\",\n        \"description\": \"\"\n      }\n    },\n    {\n      \"column\": \"at\",\n      \"properties\": {\n        \"dtype\": \"object\",\n        \"num_unique_values\": 398,\n        \"samples\": [\n          \"2020-08-23 01:02:18\",\n          \"2022-03-24 20:28:18\",\n          \"2024-04-03 01:21:03\"\n        ],\n        \"semantic_type\": \"\",\n        \"description\": \"\"\n      }\n    },\n    {\n      \"column\": \"replyContent\",\n      \"properties\": {\n        \"dtype\": \"category\",\n        \"num_unique_values\": 8,\n        \"samples\": [\n          \"Hi,  We apologize for the inconvenience caused. Please contact us through our app (go to your Profile page-top right button-Report a Problem. You can create a new account to contact us if you cannot log in). Your feedback is highly appreciated. Thanks for your support!\",\n          \"Hi, we apologize for any issues with the app and appreciate your feedback. For help with downloading, installing, or opening TikTok, please contact our support team: feedback@tiktok.com\",\n          \"Hi, sorry for the unpleasant experience. Please contact us through our app as following: 1. Go to your Profile page 2. Tap on the button on the top right corner 3. Choose \\\"Report a Problem\\\" on the \\\"Privacy and Settings\\\" page TikTok team will pay attention to every user's feedback, thanks for your support!\"\n        ],\n        \"semantic_type\": \"\",\n        \"description\": \"\"\n      }\n    },\n    {\n      \"column\": \"repliedAt\",\n      \"properties\": {\n        \"dtype\": \"date\",\n        \"min\": \"2018-09-18 14:35:27\",\n        \"max\": \"2021-05-21 13:37:56\",\n        \"num_unique_values\": 8,\n        \"samples\": [\n          \"2018-11-22 14:54:32\",\n          \"2020-01-27 19:57:40\",\n          \"2020-04-09 17:42:32\"\n        ],\n        \"semantic_type\": \"\",\n        \"description\": \"\"\n      }\n    },\n    {\n      \"column\": \"appVersion\",\n      \"properties\": {\n        \"dtype\": \"category\",\n        \"num_unique_values\": 136,\n        \"samples\": [\n          \"30.8.4\",\n          \"16.0.43\",\n          \"29.6.4\"\n        ],\n        \"semantic_type\": \"\",\n        \"description\": \"\"\n      }\n    }\n  ]\n}",
       "type": "dataframe",
       "variable_name": "df"
      },
      "text/html": [
       "\n",
       "  <div id=\"df-a9e066ba-d5d9-4419-8d20-59b904f5f0e8\" class=\"colab-df-container\">\n",
       "    <div>\n",
       "<style scoped>\n",
       "    .dataframe tbody tr th:only-of-type {\n",
       "        vertical-align: middle;\n",
       "    }\n",
       "\n",
       "    .dataframe tbody tr th {\n",
       "        vertical-align: top;\n",
       "    }\n",
       "\n",
       "    .dataframe thead th {\n",
       "        text-align: right;\n",
       "    }\n",
       "</style>\n",
       "<table border=\"1\" class=\"dataframe\">\n",
       "  <thead>\n",
       "    <tr style=\"text-align: right;\">\n",
       "      <th></th>\n",
       "      <th>reviewId</th>\n",
       "      <th>userName</th>\n",
       "      <th>userImage</th>\n",
       "      <th>content</th>\n",
       "      <th>score</th>\n",
       "      <th>thumbsUpCount</th>\n",
       "      <th>reviewCreatedVersion</th>\n",
       "      <th>at</th>\n",
       "      <th>replyContent</th>\n",
       "      <th>repliedAt</th>\n",
       "      <th>appVersion</th>\n",
       "    </tr>\n",
       "  </thead>\n",
       "  <tbody>\n",
       "    <tr>\n",
       "      <th>0</th>\n",
       "      <td>8c029d6c-9282-4034-9838-53f957384007</td>\n",
       "      <td>Amin Santoso</td>\n",
       "      <td>https://play-lh.googleusercontent.com/a-/ALV-U...</td>\n",
       "      <td>Tiktok sangat bagus. Bisa berkarya dan mendapa...</td>\n",
       "      <td>5</td>\n",
       "      <td>622</td>\n",
       "      <td>34.3.3</td>\n",
       "      <td>2024-04-20 20:26:25</td>\n",
       "      <td>NaN</td>\n",
       "      <td>NaN</td>\n",
       "      <td>34.3.3</td>\n",
       "    </tr>\n",
       "    <tr>\n",
       "      <th>1</th>\n",
       "      <td>5be47d92-8ede-4f9a-a613-3107e9bfbde2</td>\n",
       "      <td>monica hsu</td>\n",
       "      <td>https://play-lh.googleusercontent.com/a/ACg8oc...</td>\n",
       "      <td>Saya suka dengan aplikasi tiktok dan aktif men...</td>\n",
       "      <td>5</td>\n",
       "      <td>1332</td>\n",
       "      <td>33.8.5</td>\n",
       "      <td>2024-03-13 23:45:22</td>\n",
       "      <td>NaN</td>\n",
       "      <td>NaN</td>\n",
       "      <td>33.8.5</td>\n",
       "    </tr>\n",
       "    <tr>\n",
       "      <th>2</th>\n",
       "      <td>a8d020fa-07ac-46e1-9ec1-9a1d6b24abec</td>\n",
       "      <td>Oppo A16</td>\n",
       "      <td>https://play-lh.googleusercontent.com/a/ACg8oc...</td>\n",
       "      <td>Maaf saya kasih 🌟 2 karena aplikasi nya kurang...</td>\n",
       "      <td>2</td>\n",
       "      <td>30</td>\n",
       "      <td>34.5.5</td>\n",
       "      <td>2024-05-04 02:50:04</td>\n",
       "      <td>NaN</td>\n",
       "      <td>NaN</td>\n",
       "      <td>34.5.5</td>\n",
       "    </tr>\n",
       "    <tr>\n",
       "      <th>3</th>\n",
       "      <td>26fbfb0b-c11b-46e5-8e8b-d9a2803615ee</td>\n",
       "      <td>Verdi Ximenes</td>\n",
       "      <td>https://play-lh.googleusercontent.com/a-/ALV-U...</td>\n",
       "      <td>Tiktok nya sangat bagus tapi pas di buka video...</td>\n",
       "      <td>3</td>\n",
       "      <td>57</td>\n",
       "      <td>33.8.5</td>\n",
       "      <td>2024-04-18 20:02:07</td>\n",
       "      <td>NaN</td>\n",
       "      <td>NaN</td>\n",
       "      <td>33.8.5</td>\n",
       "    </tr>\n",
       "    <tr>\n",
       "      <th>4</th>\n",
       "      <td>07d94c25-28a3-4b6d-a404-720513cf1c9a</td>\n",
       "      <td>Nenk shinta</td>\n",
       "      <td>https://play-lh.googleusercontent.com/a-/ALV-U...</td>\n",
       "      <td>Kenapa dengan tiktok saya pas buka muter muter...</td>\n",
       "      <td>2</td>\n",
       "      <td>1799</td>\n",
       "      <td>34.1.5</td>\n",
       "      <td>2024-04-08 15:41:52</td>\n",
       "      <td>NaN</td>\n",
       "      <td>NaN</td>\n",
       "      <td>34.1.5</td>\n",
       "    </tr>\n",
       "    <tr>\n",
       "      <th>...</th>\n",
       "      <td>...</td>\n",
       "      <td>...</td>\n",
       "      <td>...</td>\n",
       "      <td>...</td>\n",
       "      <td>...</td>\n",
       "      <td>...</td>\n",
       "      <td>...</td>\n",
       "      <td>...</td>\n",
       "      <td>...</td>\n",
       "      <td>...</td>\n",
       "      <td>...</td>\n",
       "    </tr>\n",
       "    <tr>\n",
       "      <th>393</th>\n",
       "      <td>f6998227-f297-4c94-a3b4-c05c79ae3d98</td>\n",
       "      <td>F5X</td>\n",
       "      <td>https://play-lh.googleusercontent.com/a/ACg8oc...</td>\n",
       "      <td>Hallo saya sangat kecewa sama tiktok karena sa...</td>\n",
       "      <td>1</td>\n",
       "      <td>133</td>\n",
       "      <td>25.7.3</td>\n",
       "      <td>2022-08-18 08:50:31</td>\n",
       "      <td>NaN</td>\n",
       "      <td>NaN</td>\n",
       "      <td>25.7.3</td>\n",
       "    </tr>\n",
       "    <tr>\n",
       "      <th>394</th>\n",
       "      <td>9c4b27b6-941e-4d45-97ff-9232132d6663</td>\n",
       "      <td>ozho jabra</td>\n",
       "      <td>https://play-lh.googleusercontent.com/a-/ALV-U...</td>\n",
       "      <td>Aplikasi ini sangat penting untuk menghibur da...</td>\n",
       "      <td>5</td>\n",
       "      <td>10</td>\n",
       "      <td>NaN</td>\n",
       "      <td>2020-09-06 13:06:58</td>\n",
       "      <td>NaN</td>\n",
       "      <td>NaN</td>\n",
       "      <td>NaN</td>\n",
       "    </tr>\n",
       "    <tr>\n",
       "      <th>395</th>\n",
       "      <td>6f8c4dd1-714c-4210-ba0b-37b70ee02ed8</td>\n",
       "      <td>Sisan Ismail</td>\n",
       "      <td>https://play-lh.googleusercontent.com/a/ACg8oc...</td>\n",
       "      <td>aplikasi ini sangat bagus dan menghibur, tapi ...</td>\n",
       "      <td>5</td>\n",
       "      <td>5</td>\n",
       "      <td>NaN</td>\n",
       "      <td>2020-07-12 22:41:40</td>\n",
       "      <td>NaN</td>\n",
       "      <td>NaN</td>\n",
       "      <td>NaN</td>\n",
       "    </tr>\n",
       "    <tr>\n",
       "      <th>396</th>\n",
       "      <td>adc9f7f6-3586-4fa4-9e4c-01681b9c55f0</td>\n",
       "      <td>Neli Wulansari</td>\n",
       "      <td>https://play-lh.googleusercontent.com/a/ACg8oc...</td>\n",
       "      <td>Banyak ilmu yang didapat dan untuk pengalaman ...</td>\n",
       "      <td>5</td>\n",
       "      <td>81</td>\n",
       "      <td>23.7.3</td>\n",
       "      <td>2022-03-24 20:28:18</td>\n",
       "      <td>NaN</td>\n",
       "      <td>NaN</td>\n",
       "      <td>23.7.3</td>\n",
       "    </tr>\n",
       "    <tr>\n",
       "      <th>397</th>\n",
       "      <td>c2d0f674-8227-46a0-b9fc-f520d7734ae1</td>\n",
       "      <td>Pengguna Google</td>\n",
       "      <td>https://play-lh.googleusercontent.com/EGemoI2N...</td>\n",
       "      <td>Filter ada yang tidak bisa dipakai walaupun su...</td>\n",
       "      <td>4</td>\n",
       "      <td>58</td>\n",
       "      <td>15.5.5</td>\n",
       "      <td>2020-04-04 22:33:42</td>\n",
       "      <td>NaN</td>\n",
       "      <td>NaN</td>\n",
       "      <td>15.5.5</td>\n",
       "    </tr>\n",
       "  </tbody>\n",
       "</table>\n",
       "<p>398 rows × 11 columns</p>\n",
       "</div>\n",
       "    <div class=\"colab-df-buttons\">\n",
       "\n",
       "  <div class=\"colab-df-container\">\n",
       "    <button class=\"colab-df-convert\" onclick=\"convertToInteractive('df-a9e066ba-d5d9-4419-8d20-59b904f5f0e8')\"\n",
       "            title=\"Convert this dataframe to an interactive table.\"\n",
       "            style=\"display:none;\">\n",
       "\n",
       "  <svg xmlns=\"http://www.w3.org/2000/svg\" height=\"24px\" viewBox=\"0 -960 960 960\">\n",
       "    <path d=\"M120-120v-720h720v720H120Zm60-500h600v-160H180v160Zm220 220h160v-160H400v160Zm0 220h160v-160H400v160ZM180-400h160v-160H180v160Zm440 0h160v-160H620v160ZM180-180h160v-160H180v160Zm440 0h160v-160H620v160Z\"/>\n",
       "  </svg>\n",
       "    </button>\n",
       "\n",
       "  <style>\n",
       "    .colab-df-container {\n",
       "      display:flex;\n",
       "      gap: 12px;\n",
       "    }\n",
       "\n",
       "    .colab-df-convert {\n",
       "      background-color: #E8F0FE;\n",
       "      border: none;\n",
       "      border-radius: 50%;\n",
       "      cursor: pointer;\n",
       "      display: none;\n",
       "      fill: #1967D2;\n",
       "      height: 32px;\n",
       "      padding: 0 0 0 0;\n",
       "      width: 32px;\n",
       "    }\n",
       "\n",
       "    .colab-df-convert:hover {\n",
       "      background-color: #E2EBFA;\n",
       "      box-shadow: 0px 1px 2px rgba(60, 64, 67, 0.3), 0px 1px 3px 1px rgba(60, 64, 67, 0.15);\n",
       "      fill: #174EA6;\n",
       "    }\n",
       "\n",
       "    .colab-df-buttons div {\n",
       "      margin-bottom: 4px;\n",
       "    }\n",
       "\n",
       "    [theme=dark] .colab-df-convert {\n",
       "      background-color: #3B4455;\n",
       "      fill: #D2E3FC;\n",
       "    }\n",
       "\n",
       "    [theme=dark] .colab-df-convert:hover {\n",
       "      background-color: #434B5C;\n",
       "      box-shadow: 0px 1px 3px 1px rgba(0, 0, 0, 0.15);\n",
       "      filter: drop-shadow(0px 1px 2px rgba(0, 0, 0, 0.3));\n",
       "      fill: #FFFFFF;\n",
       "    }\n",
       "  </style>\n",
       "\n",
       "    <script>\n",
       "      const buttonEl =\n",
       "        document.querySelector('#df-a9e066ba-d5d9-4419-8d20-59b904f5f0e8 button.colab-df-convert');\n",
       "      buttonEl.style.display =\n",
       "        google.colab.kernel.accessAllowed ? 'block' : 'none';\n",
       "\n",
       "      async function convertToInteractive(key) {\n",
       "        const element = document.querySelector('#df-a9e066ba-d5d9-4419-8d20-59b904f5f0e8');\n",
       "        const dataTable =\n",
       "          await google.colab.kernel.invokeFunction('convertToInteractive',\n",
       "                                                    [key], {});\n",
       "        if (!dataTable) return;\n",
       "\n",
       "        const docLinkHtml = 'Like what you see? Visit the ' +\n",
       "          '<a target=\"_blank\" href=https://colab.research.google.com/notebooks/data_table.ipynb>data table notebook</a>'\n",
       "          + ' to learn more about interactive tables.';\n",
       "        element.innerHTML = '';\n",
       "        dataTable['output_type'] = 'display_data';\n",
       "        await google.colab.output.renderOutput(dataTable, element);\n",
       "        const docLink = document.createElement('div');\n",
       "        docLink.innerHTML = docLinkHtml;\n",
       "        element.appendChild(docLink);\n",
       "      }\n",
       "    </script>\n",
       "  </div>\n",
       "\n",
       "\n",
       "<div id=\"df-2bfba70e-9a68-44ed-bb34-80c0646922ec\">\n",
       "  <button class=\"colab-df-quickchart\" onclick=\"quickchart('df-2bfba70e-9a68-44ed-bb34-80c0646922ec')\"\n",
       "            title=\"Suggest charts\"\n",
       "            style=\"display:none;\">\n",
       "\n",
       "<svg xmlns=\"http://www.w3.org/2000/svg\" height=\"24px\"viewBox=\"0 0 24 24\"\n",
       "     width=\"24px\">\n",
       "    <g>\n",
       "        <path d=\"M19 3H5c-1.1 0-2 .9-2 2v14c0 1.1.9 2 2 2h14c1.1 0 2-.9 2-2V5c0-1.1-.9-2-2-2zM9 17H7v-7h2v7zm4 0h-2V7h2v10zm4 0h-2v-4h2v4z\"/>\n",
       "    </g>\n",
       "</svg>\n",
       "  </button>\n",
       "\n",
       "<style>\n",
       "  .colab-df-quickchart {\n",
       "      --bg-color: #E8F0FE;\n",
       "      --fill-color: #1967D2;\n",
       "      --hover-bg-color: #E2EBFA;\n",
       "      --hover-fill-color: #174EA6;\n",
       "      --disabled-fill-color: #AAA;\n",
       "      --disabled-bg-color: #DDD;\n",
       "  }\n",
       "\n",
       "  [theme=dark] .colab-df-quickchart {\n",
       "      --bg-color: #3B4455;\n",
       "      --fill-color: #D2E3FC;\n",
       "      --hover-bg-color: #434B5C;\n",
       "      --hover-fill-color: #FFFFFF;\n",
       "      --disabled-bg-color: #3B4455;\n",
       "      --disabled-fill-color: #666;\n",
       "  }\n",
       "\n",
       "  .colab-df-quickchart {\n",
       "    background-color: var(--bg-color);\n",
       "    border: none;\n",
       "    border-radius: 50%;\n",
       "    cursor: pointer;\n",
       "    display: none;\n",
       "    fill: var(--fill-color);\n",
       "    height: 32px;\n",
       "    padding: 0;\n",
       "    width: 32px;\n",
       "  }\n",
       "\n",
       "  .colab-df-quickchart:hover {\n",
       "    background-color: var(--hover-bg-color);\n",
       "    box-shadow: 0 1px 2px rgba(60, 64, 67, 0.3), 0 1px 3px 1px rgba(60, 64, 67, 0.15);\n",
       "    fill: var(--button-hover-fill-color);\n",
       "  }\n",
       "\n",
       "  .colab-df-quickchart-complete:disabled,\n",
       "  .colab-df-quickchart-complete:disabled:hover {\n",
       "    background-color: var(--disabled-bg-color);\n",
       "    fill: var(--disabled-fill-color);\n",
       "    box-shadow: none;\n",
       "  }\n",
       "\n",
       "  .colab-df-spinner {\n",
       "    border: 2px solid var(--fill-color);\n",
       "    border-color: transparent;\n",
       "    border-bottom-color: var(--fill-color);\n",
       "    animation:\n",
       "      spin 1s steps(1) infinite;\n",
       "  }\n",
       "\n",
       "  @keyframes spin {\n",
       "    0% {\n",
       "      border-color: transparent;\n",
       "      border-bottom-color: var(--fill-color);\n",
       "      border-left-color: var(--fill-color);\n",
       "    }\n",
       "    20% {\n",
       "      border-color: transparent;\n",
       "      border-left-color: var(--fill-color);\n",
       "      border-top-color: var(--fill-color);\n",
       "    }\n",
       "    30% {\n",
       "      border-color: transparent;\n",
       "      border-left-color: var(--fill-color);\n",
       "      border-top-color: var(--fill-color);\n",
       "      border-right-color: var(--fill-color);\n",
       "    }\n",
       "    40% {\n",
       "      border-color: transparent;\n",
       "      border-right-color: var(--fill-color);\n",
       "      border-top-color: var(--fill-color);\n",
       "    }\n",
       "    60% {\n",
       "      border-color: transparent;\n",
       "      border-right-color: var(--fill-color);\n",
       "    }\n",
       "    80% {\n",
       "      border-color: transparent;\n",
       "      border-right-color: var(--fill-color);\n",
       "      border-bottom-color: var(--fill-color);\n",
       "    }\n",
       "    90% {\n",
       "      border-color: transparent;\n",
       "      border-bottom-color: var(--fill-color);\n",
       "    }\n",
       "  }\n",
       "</style>\n",
       "\n",
       "  <script>\n",
       "    async function quickchart(key) {\n",
       "      const quickchartButtonEl =\n",
       "        document.querySelector('#' + key + ' button');\n",
       "      quickchartButtonEl.disabled = true;  // To prevent multiple clicks.\n",
       "      quickchartButtonEl.classList.add('colab-df-spinner');\n",
       "      try {\n",
       "        const charts = await google.colab.kernel.invokeFunction(\n",
       "            'suggestCharts', [key], {});\n",
       "      } catch (error) {\n",
       "        console.error('Error during call to suggestCharts:', error);\n",
       "      }\n",
       "      quickchartButtonEl.classList.remove('colab-df-spinner');\n",
       "      quickchartButtonEl.classList.add('colab-df-quickchart-complete');\n",
       "    }\n",
       "    (() => {\n",
       "      let quickchartButtonEl =\n",
       "        document.querySelector('#df-2bfba70e-9a68-44ed-bb34-80c0646922ec button');\n",
       "      quickchartButtonEl.style.display =\n",
       "        google.colab.kernel.accessAllowed ? 'block' : 'none';\n",
       "    })();\n",
       "  </script>\n",
       "</div>\n",
       "    </div>\n",
       "  </div>\n"
      ],
      "text/plain": [
       "                                 reviewId         userName  \\\n",
       "0    8c029d6c-9282-4034-9838-53f957384007     Amin Santoso   \n",
       "1    5be47d92-8ede-4f9a-a613-3107e9bfbde2       monica hsu   \n",
       "2    a8d020fa-07ac-46e1-9ec1-9a1d6b24abec         Oppo A16   \n",
       "3    26fbfb0b-c11b-46e5-8e8b-d9a2803615ee    Verdi Ximenes   \n",
       "4    07d94c25-28a3-4b6d-a404-720513cf1c9a      Nenk shinta   \n",
       "..                                    ...              ...   \n",
       "393  f6998227-f297-4c94-a3b4-c05c79ae3d98              F5X   \n",
       "394  9c4b27b6-941e-4d45-97ff-9232132d6663       ozho jabra   \n",
       "395  6f8c4dd1-714c-4210-ba0b-37b70ee02ed8     Sisan Ismail   \n",
       "396  adc9f7f6-3586-4fa4-9e4c-01681b9c55f0   Neli Wulansari   \n",
       "397  c2d0f674-8227-46a0-b9fc-f520d7734ae1  Pengguna Google   \n",
       "\n",
       "                                             userImage  \\\n",
       "0    https://play-lh.googleusercontent.com/a-/ALV-U...   \n",
       "1    https://play-lh.googleusercontent.com/a/ACg8oc...   \n",
       "2    https://play-lh.googleusercontent.com/a/ACg8oc...   \n",
       "3    https://play-lh.googleusercontent.com/a-/ALV-U...   \n",
       "4    https://play-lh.googleusercontent.com/a-/ALV-U...   \n",
       "..                                                 ...   \n",
       "393  https://play-lh.googleusercontent.com/a/ACg8oc...   \n",
       "394  https://play-lh.googleusercontent.com/a-/ALV-U...   \n",
       "395  https://play-lh.googleusercontent.com/a/ACg8oc...   \n",
       "396  https://play-lh.googleusercontent.com/a/ACg8oc...   \n",
       "397  https://play-lh.googleusercontent.com/EGemoI2N...   \n",
       "\n",
       "                                               content  score  thumbsUpCount  \\\n",
       "0    Tiktok sangat bagus. Bisa berkarya dan mendapa...      5            622   \n",
       "1    Saya suka dengan aplikasi tiktok dan aktif men...      5           1332   \n",
       "2    Maaf saya kasih 🌟 2 karena aplikasi nya kurang...      2             30   \n",
       "3    Tiktok nya sangat bagus tapi pas di buka video...      3             57   \n",
       "4    Kenapa dengan tiktok saya pas buka muter muter...      2           1799   \n",
       "..                                                 ...    ...            ...   \n",
       "393  Hallo saya sangat kecewa sama tiktok karena sa...      1            133   \n",
       "394  Aplikasi ini sangat penting untuk menghibur da...      5             10   \n",
       "395  aplikasi ini sangat bagus dan menghibur, tapi ...      5              5   \n",
       "396  Banyak ilmu yang didapat dan untuk pengalaman ...      5             81   \n",
       "397  Filter ada yang tidak bisa dipakai walaupun su...      4             58   \n",
       "\n",
       "    reviewCreatedVersion                   at replyContent repliedAt  \\\n",
       "0                 34.3.3  2024-04-20 20:26:25          NaN       NaN   \n",
       "1                 33.8.5  2024-03-13 23:45:22          NaN       NaN   \n",
       "2                 34.5.5  2024-05-04 02:50:04          NaN       NaN   \n",
       "3                 33.8.5  2024-04-18 20:02:07          NaN       NaN   \n",
       "4                 34.1.5  2024-04-08 15:41:52          NaN       NaN   \n",
       "..                   ...                  ...          ...       ...   \n",
       "393               25.7.3  2022-08-18 08:50:31          NaN       NaN   \n",
       "394                  NaN  2020-09-06 13:06:58          NaN       NaN   \n",
       "395                  NaN  2020-07-12 22:41:40          NaN       NaN   \n",
       "396               23.7.3  2022-03-24 20:28:18          NaN       NaN   \n",
       "397               15.5.5  2020-04-04 22:33:42          NaN       NaN   \n",
       "\n",
       "    appVersion  \n",
       "0       34.3.3  \n",
       "1       33.8.5  \n",
       "2       34.5.5  \n",
       "3       33.8.5  \n",
       "4       34.1.5  \n",
       "..         ...  \n",
       "393     25.7.3  \n",
       "394        NaN  \n",
       "395        NaN  \n",
       "396     23.7.3  \n",
       "397     15.5.5  \n",
       "\n",
       "[398 rows x 11 columns]"
      ]
     },
     "execution_count": 2,
     "metadata": {},
     "output_type": "execute_result"
    }
   ],
   "source": [
    "df = pd.read_csv('/content/drive/MyDrive/Colab /Youtube/SENTIMENT ANALYSIS/Vid4/data/tiktok.csv')\n",
    "df"
   ]
  },
  {
   "cell_type": "code",
   "execution_count": 3,
   "metadata": {
    "executionInfo": {
     "elapsed": 2,
     "status": "ok",
     "timestamp": 1715665359197,
     "user": {
      "displayName": "Muhammad Aulia",
      "userId": "07442516879104875952"
     },
     "user_tz": -420
    },
    "id": "gMgaANqSX-Pe"
   },
   "outputs": [],
   "source": [
    "df = df[['userName', 'content', 'score']]"
   ]
  },
  {
   "cell_type": "markdown",
   "metadata": {
    "id": "WtUBOIcdYtUu"
   },
   "source": [
    "### Menghapus nilai False"
   ]
  },
  {
   "cell_type": "code",
   "execution_count": 5,
   "metadata": {
    "colab": {
     "base_uri": "https://localhost:8080/"
    },
    "executionInfo": {
     "elapsed": 316,
     "status": "ok",
     "timestamp": 1715665385180,
     "user": {
      "displayName": "Muhammad Aulia",
      "userId": "07442516879104875952"
     },
     "user_tz": -420
    },
    "id": "khN7WxczYBMs",
    "outputId": "9917064c-c0b8-41bd-8a75-d0fef4e38558"
   },
   "outputs": [
    {
     "name": "stderr",
     "output_type": "stream",
     "text": [
      "<ipython-input-5-e219e00e7c4e>:2: SettingWithCopyWarning: \n",
      "A value is trying to be set on a copy of a slice from a DataFrame.\n",
      "Try using .loc[row_indexer,col_indexer] = value instead\n",
      "\n",
      "See the caveats in the documentation: https://pandas.pydata.org/pandas-docs/stable/user_guide/indexing.html#returning-a-view-versus-a-copy\n",
      "  df['content'] = df['content'].astype(str).str.lower()  # Mengubah teks menjadi lowercase\n",
      "<ipython-input-5-e219e00e7c4e>:3: SettingWithCopyWarning: \n",
      "A value is trying to be set on a copy of a slice from a DataFrame.\n",
      "Try using .loc[row_indexer,col_indexer] = value instead\n",
      "\n",
      "See the caveats in the documentation: https://pandas.pydata.org/pandas-docs/stable/user_guide/indexing.html#returning-a-view-versus-a-copy\n",
      "  df['content'] = df['content'].replace('false', pd.NA)  # Mengganti 'false' dengan pd.NA (Not Available)\n"
     ]
    }
   ],
   "source": [
    "# Metode 1: Menggunakan drop\n",
    "df['content'] = df['content'].astype(str).str.lower()  # Mengubah teks menjadi lowercase\n",
    "df['content'] = df['content'].replace('false', pd.NA)  # Mengganti 'false' dengan pd.NA (Not Available)\n",
    "df = df.dropna(subset=['content'])\n",
    "\n",
    "# Metode 2: Menggunakan boolean indexing\n",
    "df['content'] = df['content'].astype(str).str.lower()  # Mengubah teks menjadi lowercase\n",
    "df = df[df['content'] != 'false']"
   ]
  },
  {
   "cell_type": "code",
   "execution_count": 6,
   "metadata": {
    "colab": {
     "base_uri": "https://localhost:8080/"
    },
    "executionInfo": {
     "elapsed": 475,
     "status": "ok",
     "timestamp": 1715665388963,
     "user": {
      "displayName": "Muhammad Aulia",
      "userId": "07442516879104875952"
     },
     "user_tz": -420
    },
    "id": "Z1dcc7I8Yws2",
    "outputId": "eda7b04d-d800-4e08-d024-3beb2f2aaf25"
   },
   "outputs": [
    {
     "data": {
      "text/plain": [
       "(398, 3)"
      ]
     },
     "execution_count": 6,
     "metadata": {},
     "output_type": "execute_result"
    }
   ],
   "source": [
    "df.shape"
   ]
  },
  {
   "cell_type": "code",
   "execution_count": 7,
   "metadata": {
    "executionInfo": {
     "elapsed": 391,
     "status": "ok",
     "timestamp": 1715665394342,
     "user": {
      "displayName": "Muhammad Aulia",
      "userId": "07442516879104875952"
     },
     "user_tz": -420
    },
    "id": "ub-QVIjJYy29"
   },
   "outputs": [],
   "source": [
    "df = df.drop_duplicates(subset=['content'])"
   ]
  },
  {
   "cell_type": "code",
   "execution_count": 8,
   "metadata": {
    "colab": {
     "base_uri": "https://localhost:8080/"
    },
    "executionInfo": {
     "elapsed": 3,
     "status": "ok",
     "timestamp": 1715665395894,
     "user": {
      "displayName": "Muhammad Aulia",
      "userId": "07442516879104875952"
     },
     "user_tz": -420
    },
    "id": "RNqae8GoY4CH",
    "outputId": "5d6338f5-3fa8-428d-ef66-6555dd5dfd55"
   },
   "outputs": [
    {
     "data": {
      "text/plain": [
       "0"
      ]
     },
     "execution_count": 8,
     "metadata": {},
     "output_type": "execute_result"
    }
   ],
   "source": [
    "df.duplicated().sum()"
   ]
  },
  {
   "cell_type": "code",
   "execution_count": 9,
   "metadata": {
    "executionInfo": {
     "elapsed": 1,
     "status": "ok",
     "timestamp": 1715665396931,
     "user": {
      "displayName": "Muhammad Aulia",
      "userId": "07442516879104875952"
     },
     "user_tz": -420
    },
    "id": "IWpSGCA5Y4ez"
   },
   "outputs": [],
   "source": [
    "df = df.dropna()"
   ]
  },
  {
   "cell_type": "code",
   "execution_count": 10,
   "metadata": {
    "colab": {
     "base_uri": "https://localhost:8080/"
    },
    "executionInfo": {
     "elapsed": 2,
     "status": "ok",
     "timestamp": 1715665398112,
     "user": {
      "displayName": "Muhammad Aulia",
      "userId": "07442516879104875952"
     },
     "user_tz": -420
    },
    "id": "AAjJ6hJPY6v4",
    "outputId": "78409d95-2653-4db7-b0a1-87020182de3a"
   },
   "outputs": [
    {
     "data": {
      "text/plain": [
       "userName    0\n",
       "content     0\n",
       "score       0\n",
       "dtype: int64"
      ]
     },
     "execution_count": 10,
     "metadata": {},
     "output_type": "execute_result"
    }
   ],
   "source": [
    "df.isnull().sum()"
   ]
  },
  {
   "cell_type": "code",
   "execution_count": 11,
   "metadata": {
    "colab": {
     "base_uri": "https://localhost:8080/"
    },
    "executionInfo": {
     "elapsed": 414,
     "status": "ok",
     "timestamp": 1715665401236,
     "user": {
      "displayName": "Muhammad Aulia",
      "userId": "07442516879104875952"
     },
     "user_tz": -420
    },
    "id": "0a788zcCY8be",
    "outputId": "2f48df62-f128-4d18-e959-0d38d821471f"
   },
   "outputs": [
    {
     "data": {
      "text/plain": [
       "(398, 3)"
      ]
     },
     "execution_count": 11,
     "metadata": {},
     "output_type": "execute_result"
    }
   ],
   "source": [
    "df.shape"
   ]
  },
  {
   "cell_type": "code",
   "execution_count": 12,
   "metadata": {
    "executionInfo": {
     "elapsed": 2,
     "status": "ok",
     "timestamp": 1715665408332,
     "user": {
      "displayName": "Muhammad Aulia",
      "userId": "07442516879104875952"
     },
     "user_tz": -420
    },
    "id": "kToR4NJCY-Ro"
   },
   "outputs": [],
   "source": [
    "def clean_twitter_text(text):\n",
    "  text = re.sub(r'@[A-Za-z0-9_]+', '', text)\n",
    "  text = re.sub(r'#\\w+', '', text)\n",
    "  text = re.sub(r'RT[\\s]+', '', text)\n",
    "  text = re.sub(r'https?://\\S+', '', text)\n",
    "\n",
    "  text = re.sub(r'[^A-Za-z0-9 ]', '', text)\n",
    "  text = re.sub(r'\\s+', ' ', text).strip()\n",
    "\n",
    "  return text\n",
    "\n",
    "df['content'] = df['content'].apply(clean_twitter_text)"
   ]
  },
  {
   "cell_type": "code",
   "execution_count": 14,
   "metadata": {
    "executionInfo": {
     "elapsed": 3,
     "status": "ok",
     "timestamp": 1715665438482,
     "user": {
      "displayName": "Muhammad Aulia",
      "userId": "07442516879104875952"
     },
     "user_tz": -420
    },
    "id": "Ud-kegiuZEi6"
   },
   "outputs": [],
   "source": [
    "df.to_csv(\"/content/drive/MyDrive/Colab /Youtube/SENTIMENT ANALYSIS/Vid4/data/hasil_cleaningData.csv\")"
   ]
  }
 ],
 "metadata": {
  "colab": {
   "authorship_tag": "ABX9TyPEE+wU0ebS5lBERED96IYv",
   "mount_file_id": "1gcXE1OfPFKIGchaKvV2dc0CeelJVwjf6",
   "provenance": []
  },
  "kernelspec": {
   "display_name": "Python 3 (ipykernel)",
   "language": "python",
   "name": "python3"
  },
  "language_info": {
   "codemirror_mode": {
    "name": "ipython",
    "version": 3
   },
   "file_extension": ".py",
   "mimetype": "text/x-python",
   "name": "python",
   "nbconvert_exporter": "python",
   "pygments_lexer": "ipython3",
   "version": "3.12.3"
  }
 },
 "nbformat": 4,
 "nbformat_minor": 4
}
